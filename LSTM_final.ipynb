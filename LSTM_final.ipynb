{
  "nbformat": 4,
  "nbformat_minor": 0,
  "metadata": {
    "colab": {
      "provenance": [],
      "collapsed_sections": [
        "aNpGfN5qlHRa",
        "hr5JJgAGlKjz",
        "nxdyUM0JlM5w",
        "MPRJ6So-lA8v",
        "Sut-d7xwlCoX",
        "8t1dMxBDWDXM",
        "ZM5ymx4Uk46g",
        "Ebzm0J0xkyvT",
        "6hxbAw-kk07W",
        "LJko8ephjice",
        "2-9nprKQqeTo",
        "nHB9uG4gqtwL",
        "snsDhySOqv2T",
        "MzG971BmOtrw",
        "Kn33Vo1-uucf",
        "yvRZu8NpPlHY"
      ]
    },
    "kernelspec": {
      "name": "python3",
      "display_name": "Python 3"
    },
    "language_info": {
      "name": "python"
    }
  },
  "cells": [
    {
      "cell_type": "markdown",
      "source": [
        "# Import libraries and csv"
      ],
      "metadata": {
        "id": "aNpGfN5qlHRa"
      }
    },
    {
      "cell_type": "code",
      "execution_count": 68,
      "metadata": {
        "id": "8IP0mVrJbgEc",
        "colab": {
          "base_uri": "https://localhost:8080/"
        },
        "outputId": "6033bb6c-525f-41f6-e378-b799eda273d4"
      },
      "outputs": [
        {
          "output_type": "stream",
          "name": "stdout",
          "text": [
            "Requirement already satisfied: gdown==4.6.0 in /usr/local/lib/python3.10/dist-packages (4.6.0)\n",
            "Requirement already satisfied: filelock in /usr/local/lib/python3.10/dist-packages (from gdown==4.6.0) (3.13.1)\n",
            "Requirement already satisfied: requests[socks] in /usr/local/lib/python3.10/dist-packages (from gdown==4.6.0) (2.31.0)\n",
            "Requirement already satisfied: six in /usr/local/lib/python3.10/dist-packages (from gdown==4.6.0) (1.16.0)\n",
            "Requirement already satisfied: tqdm in /usr/local/lib/python3.10/dist-packages (from gdown==4.6.0) (4.66.1)\n",
            "Requirement already satisfied: beautifulsoup4 in /usr/local/lib/python3.10/dist-packages (from gdown==4.6.0) (4.12.3)\n",
            "Requirement already satisfied: soupsieve>1.2 in /usr/local/lib/python3.10/dist-packages (from beautifulsoup4->gdown==4.6.0) (2.5)\n",
            "Requirement already satisfied: charset-normalizer<4,>=2 in /usr/local/lib/python3.10/dist-packages (from requests[socks]->gdown==4.6.0) (3.3.2)\n",
            "Requirement already satisfied: idna<4,>=2.5 in /usr/local/lib/python3.10/dist-packages (from requests[socks]->gdown==4.6.0) (3.6)\n",
            "Requirement already satisfied: urllib3<3,>=1.21.1 in /usr/local/lib/python3.10/dist-packages (from requests[socks]->gdown==4.6.0) (2.0.7)\n",
            "Requirement already satisfied: certifi>=2017.4.17 in /usr/local/lib/python3.10/dist-packages (from requests[socks]->gdown==4.6.0) (2023.11.17)\n",
            "Requirement already satisfied: PySocks!=1.5.7,>=1.5.6 in /usr/local/lib/python3.10/dist-packages (from requests[socks]->gdown==4.6.0) (1.7.1)\n"
          ]
        }
      ],
      "source": [
        "!pip install gdown==4.6.0\n",
        "!pip install -q pytorch-lightning\n"
      ]
    },
    {
      "cell_type": "code",
      "source": [
        "!gdown 1onocuCd4eJOXGzgcFqF6mkBWYu_To_R5\n",
        "!gdown 1zDO0WB11NE3ugusS-u5zxZZaWwR-2p5o\n",
        "!gdown 1aG7kZJ_b_mKAV3oqn5r0fQKTc1VEwkLu\n",
        "!gdown 1ry_oMoG-Dz8zA5BaZ2rfOIhVuGm5Whpa\n",
        "!gdown 1TR8OrGSjoyckFY7hU-f2teaBmnd9Sjb3"
      ],
      "metadata": {
        "id": "bVx4_y4lcAlO",
        "colab": {
          "base_uri": "https://localhost:8080/"
        },
        "outputId": "9d197fc3-ff8f-4b4c-d8db-7b46d4281d0e"
      },
      "execution_count": 69,
      "outputs": [
        {
          "output_type": "stream",
          "name": "stdout",
          "text": [
            "Downloading...\n",
            "From: https://drive.google.com/uc?id=1onocuCd4eJOXGzgcFqF6mkBWYu_To_R5\n",
            "To: /content/data_synth_train.csv\n",
            "100% 21.0M/21.0M [00:00<00:00, 45.6MB/s]\n",
            "Downloading...\n",
            "From: https://drive.google.com/uc?id=1zDO0WB11NE3ugusS-u5zxZZaWwR-2p5o\n",
            "To: /content/data_synth_test.csv\n",
            "100% 3.81M/3.81M [00:00<00:00, 62.2MB/s]\n",
            "Downloading...\n",
            "From: https://drive.google.com/uc?id=1aG7kZJ_b_mKAV3oqn5r0fQKTc1VEwkLu\n",
            "To: /content/data_submission_example.csv\n",
            "100% 7.60k/7.60k [00:00<00:00, 5.84MB/s]\n",
            "Downloading...\n",
            "From: https://drive.google.com/uc?id=1ry_oMoG-Dz8zA5BaZ2rfOIhVuGm5Whpa\n",
            "To: /content/df_train_first_processing.csv\n",
            "100% 28.7M/28.7M [00:00<00:00, 84.3MB/s]\n",
            "Downloading...\n",
            "From: https://drive.google.com/uc?id=1TR8OrGSjoyckFY7hU-f2teaBmnd9Sjb3\n",
            "To: /content/clean_data.csv\n",
            "100% 48.2M/48.2M [00:00<00:00, 121MB/s]\n"
          ]
        }
      ]
    },
    {
      "cell_type": "code",
      "source": [
        "#import libraries here\n",
        "import os\n",
        "import copy\n",
        "import math\n",
        "import gc\n",
        "import random\n",
        "import numpy as np\n",
        "import pandas as pd\n",
        "\n",
        "import torch\n",
        "\n",
        "import torch.nn as nn\n",
        "import torch.nn.functional as F\n",
        "\n",
        "from torch.utils.data import Dataset, DataLoader, random_split\n",
        "import pytorch_lightning as pl\n",
        "from pytorch_lightning import Trainer\n",
        "\n",
        "import matplotlib.pyplot as plt\n",
        "import seaborn as sns\n",
        "\n",
        "from typing import List, Tuple, Any, Dict, Union, Set, Callable\n",
        "\n",
        "# from transformers import AutoTokenizer, AutoModel, AlbertTokenizer, AlbertModel\n",
        "\n",
        "import json\n",
        "\n",
        "from tqdm import tqdm\n",
        "\n",
        "from sklearn.preprocessing import StandardScaler, MinMaxScaler\n",
        "from sklearn.model_selection import train_test_split\n",
        "# Usa lo stesso DataFrame 'df' e le stesse 'colonne_da_scalare'\n",
        "\n",
        "\n"
      ],
      "metadata": {
        "id": "ivnkXtjWcAn2"
      },
      "execution_count": 70,
      "outputs": []
    },
    {
      "cell_type": "code",
      "source": [
        "#CONST\n",
        "\n",
        "# features = ['timestamp_in_seconds', 'temperature', 'humidity', 'CO2CosIRValue', 'CO2MG811Value', 'MOX1', 'MOX2', 'MOX3', 'MOX4',  'COValue']\n",
        "features = ['timestamp_in_seconds', 'var_temperature', 'var_humidity', 'var_CO2CosIRValue', 'var_CO2MG811Value', 'var_MOX1', 'varMOX2', 'var_MOX3', 'var_MOX4',  'var_COValue']\n",
        "labels_col = ['Living room', 'Bedroom', 'Bathroom', 'Kitchen', 'Hallway']\n",
        "\n",
        "scaler = MinMaxScaler()\n",
        "\n",
        "SEED:int = 1234\n",
        "\n",
        "random.seed(SEED)\n",
        "np.random.seed(SEED)\n",
        "torch.manual_seed(SEED)\n",
        "torch.backends.cudnn.deterministic = True\n",
        "pl.seed_everything(SEED)"
      ],
      "metadata": {
        "colab": {
          "base_uri": "https://localhost:8080/"
        },
        "id": "OziofXozYHfE",
        "outputId": "aebd4a1e-dd7d-417c-f9df-67928c0ec570"
      },
      "execution_count": 71,
      "outputs": [
        {
          "output_type": "stream",
          "name": "stderr",
          "text": [
            "INFO:lightning_fabric.utilities.seed:Seed set to 1234\n"
          ]
        },
        {
          "output_type": "execute_result",
          "data": {
            "text/plain": [
              "1234"
            ]
          },
          "metadata": {},
          "execution_count": 71
        }
      ]
    },
    {
      "cell_type": "markdown",
      "source": [
        "# Download dataset"
      ],
      "metadata": {
        "id": "hr5JJgAGlKjz"
      }
    },
    {
      "cell_type": "code",
      "source": [
        "df_sub = pd.read_csv('/content/data_submission_example.csv')\n",
        "df_test = pd.read_csv('/content/data_synth_test.csv')\n",
        "# df_train = pd.read_csv('/content/data_synth_train.csv')\n",
        "# df_train = pd.read_csv('/content/df_train_first_processing.csv')\n",
        "df_train = pd.read_csv('/content/clean_data.csv')"
      ],
      "metadata": {
        "id": "sfoLg24ZexL5"
      },
      "execution_count": 72,
      "outputs": []
    },
    {
      "cell_type": "code",
      "source": [
        "df_train\n",
        "\n",
        "df_original = df_train.copy()\n",
        "\n",
        "# df_train = df_train[~((df_train['timestamp_in_seconds'] >=0) * (df_train['timestamp_in_seconds'] <= 6*3600) +\n",
        "#           (df_train['timestamp_in_seconds'] >= 23*3600) * (df_train['timestamp_in_seconds'] <= 24*3600))]\n",
        "\n",
        "# df_train = df_train[~((df_train['Bedroom'] == 0)*(df_train['Living room'] == 0)*(df_train['Bathroom'] == 0)*(df_train['Kitchen'] == 0)*(df_train['Hallway'] == 0))]"
      ],
      "metadata": {
        "id": "sHy9yIBRxDwL"
      },
      "execution_count": 73,
      "outputs": []
    },
    {
      "cell_type": "code",
      "source": [
        "df_train"
      ],
      "metadata": {
        "id": "tbTGOp5tGENc",
        "colab": {
          "base_uri": "https://localhost:8080/",
          "height": 0
        },
        "outputId": "f2d3d164-013a-41c4-d834-d21d8422156e"
      },
      "execution_count": 74,
      "outputs": [
        {
          "output_type": "execute_result",
          "data": {
            "text/plain": [
              "        Unnamed: 0  Living room  Bedroom  Bathroom  Kitchen  Hallway  \\\n",
              "0                0            0        0         0        0        0   \n",
              "1                1            0        0         0        0        0   \n",
              "2                2            1        0         0        0        0   \n",
              "3                3            1        0         0        0        0   \n",
              "4                4            1        0         0        0        0   \n",
              "...            ...          ...      ...       ...      ...      ...   \n",
              "265682      304563            0        0         0        0        0   \n",
              "265683      304564            0        0         0        0        0   \n",
              "265684      304565            0        0         0        0        0   \n",
              "265685      304566            0        0         0        0        0   \n",
              "265686      304567            0        0         0        0        0   \n",
              "\n",
              "        timestamp_in_seconds  var_CO2CosIRValue  var_CO2MG811Value  var_MOX1  \\\n",
              "0                          7           0.000000           0.000000  0.000000   \n",
              "1                         27          -0.018349           0.003766  0.010225   \n",
              "2                         47           0.000000          -0.005629 -0.006073   \n",
              "3                         67          -0.009346           0.003774 -0.004073   \n",
              "4                         87          -0.028302           0.000000  0.002045   \n",
              "...                      ...                ...                ...       ...   \n",
              "265682                 13903           0.000000           0.001890  0.004556   \n",
              "265683                 13923           0.019608          -0.001887  0.000000   \n",
              "265684                 13943          -0.028846           0.000000  0.004535   \n",
              "265685                 13963           0.000000           0.000000 -0.004515   \n",
              "265686                 13983          -0.009901          -0.001890 -0.002268   \n",
              "\n",
              "         varMOX2  var_MOX3  var_MOX4  var_COValue  var_temperature  \\\n",
              "0       0.000000  0.000000  0.000000     0.000000         0.000000   \n",
              "1       0.002837 -0.001517  0.005000     0.000000        -0.003293   \n",
              "2       0.001414 -0.003040 -0.011609    -0.008197        -0.003775   \n",
              "3       0.002825  0.000000  0.001678     0.041322         0.000474   \n",
              "4      -0.007042  0.003049  0.000000     0.031746        -0.002841   \n",
              "...          ...       ...       ...          ...              ...   \n",
              "265682 -0.002882  0.001538  0.001718     0.000000         0.001817   \n",
              "265683  0.002890  0.000000  0.000000     0.000000        -0.005442   \n",
              "265684  0.000000  0.000000  0.001715     0.009259         0.007296   \n",
              "265685  0.000000  0.000000  0.001712    -0.009174        -0.002263   \n",
              "265686  0.000000  0.000000 -0.001709     0.009259        -0.003176   \n",
              "\n",
              "        var_humidity  mapped_date  \n",
              "0           0.000000            1  \n",
              "1           0.005023            1  \n",
              "2          -0.008616            1  \n",
              "3           0.007127            1  \n",
              "4           0.004142            1  \n",
              "...              ...          ...  \n",
              "265682      0.003636           72  \n",
              "265683     -0.001268           72  \n",
              "265684     -0.000181           72  \n",
              "265685      0.001814           72  \n",
              "265686      0.000000           72  \n",
              "\n",
              "[265687 rows x 17 columns]"
            ],
            "text/html": [
              "\n",
              "  <div id=\"df-bba065ac-034f-4ee6-a059-c533f01ff283\" class=\"colab-df-container\">\n",
              "    <div>\n",
              "<style scoped>\n",
              "    .dataframe tbody tr th:only-of-type {\n",
              "        vertical-align: middle;\n",
              "    }\n",
              "\n",
              "    .dataframe tbody tr th {\n",
              "        vertical-align: top;\n",
              "    }\n",
              "\n",
              "    .dataframe thead th {\n",
              "        text-align: right;\n",
              "    }\n",
              "</style>\n",
              "<table border=\"1\" class=\"dataframe\">\n",
              "  <thead>\n",
              "    <tr style=\"text-align: right;\">\n",
              "      <th></th>\n",
              "      <th>Unnamed: 0</th>\n",
              "      <th>Living room</th>\n",
              "      <th>Bedroom</th>\n",
              "      <th>Bathroom</th>\n",
              "      <th>Kitchen</th>\n",
              "      <th>Hallway</th>\n",
              "      <th>timestamp_in_seconds</th>\n",
              "      <th>var_CO2CosIRValue</th>\n",
              "      <th>var_CO2MG811Value</th>\n",
              "      <th>var_MOX1</th>\n",
              "      <th>varMOX2</th>\n",
              "      <th>var_MOX3</th>\n",
              "      <th>var_MOX4</th>\n",
              "      <th>var_COValue</th>\n",
              "      <th>var_temperature</th>\n",
              "      <th>var_humidity</th>\n",
              "      <th>mapped_date</th>\n",
              "    </tr>\n",
              "  </thead>\n",
              "  <tbody>\n",
              "    <tr>\n",
              "      <th>0</th>\n",
              "      <td>0</td>\n",
              "      <td>0</td>\n",
              "      <td>0</td>\n",
              "      <td>0</td>\n",
              "      <td>0</td>\n",
              "      <td>0</td>\n",
              "      <td>7</td>\n",
              "      <td>0.000000</td>\n",
              "      <td>0.000000</td>\n",
              "      <td>0.000000</td>\n",
              "      <td>0.000000</td>\n",
              "      <td>0.000000</td>\n",
              "      <td>0.000000</td>\n",
              "      <td>0.000000</td>\n",
              "      <td>0.000000</td>\n",
              "      <td>0.000000</td>\n",
              "      <td>1</td>\n",
              "    </tr>\n",
              "    <tr>\n",
              "      <th>1</th>\n",
              "      <td>1</td>\n",
              "      <td>0</td>\n",
              "      <td>0</td>\n",
              "      <td>0</td>\n",
              "      <td>0</td>\n",
              "      <td>0</td>\n",
              "      <td>27</td>\n",
              "      <td>-0.018349</td>\n",
              "      <td>0.003766</td>\n",
              "      <td>0.010225</td>\n",
              "      <td>0.002837</td>\n",
              "      <td>-0.001517</td>\n",
              "      <td>0.005000</td>\n",
              "      <td>0.000000</td>\n",
              "      <td>-0.003293</td>\n",
              "      <td>0.005023</td>\n",
              "      <td>1</td>\n",
              "    </tr>\n",
              "    <tr>\n",
              "      <th>2</th>\n",
              "      <td>2</td>\n",
              "      <td>1</td>\n",
              "      <td>0</td>\n",
              "      <td>0</td>\n",
              "      <td>0</td>\n",
              "      <td>0</td>\n",
              "      <td>47</td>\n",
              "      <td>0.000000</td>\n",
              "      <td>-0.005629</td>\n",
              "      <td>-0.006073</td>\n",
              "      <td>0.001414</td>\n",
              "      <td>-0.003040</td>\n",
              "      <td>-0.011609</td>\n",
              "      <td>-0.008197</td>\n",
              "      <td>-0.003775</td>\n",
              "      <td>-0.008616</td>\n",
              "      <td>1</td>\n",
              "    </tr>\n",
              "    <tr>\n",
              "      <th>3</th>\n",
              "      <td>3</td>\n",
              "      <td>1</td>\n",
              "      <td>0</td>\n",
              "      <td>0</td>\n",
              "      <td>0</td>\n",
              "      <td>0</td>\n",
              "      <td>67</td>\n",
              "      <td>-0.009346</td>\n",
              "      <td>0.003774</td>\n",
              "      <td>-0.004073</td>\n",
              "      <td>0.002825</td>\n",
              "      <td>0.000000</td>\n",
              "      <td>0.001678</td>\n",
              "      <td>0.041322</td>\n",
              "      <td>0.000474</td>\n",
              "      <td>0.007127</td>\n",
              "      <td>1</td>\n",
              "    </tr>\n",
              "    <tr>\n",
              "      <th>4</th>\n",
              "      <td>4</td>\n",
              "      <td>1</td>\n",
              "      <td>0</td>\n",
              "      <td>0</td>\n",
              "      <td>0</td>\n",
              "      <td>0</td>\n",
              "      <td>87</td>\n",
              "      <td>-0.028302</td>\n",
              "      <td>0.000000</td>\n",
              "      <td>0.002045</td>\n",
              "      <td>-0.007042</td>\n",
              "      <td>0.003049</td>\n",
              "      <td>0.000000</td>\n",
              "      <td>0.031746</td>\n",
              "      <td>-0.002841</td>\n",
              "      <td>0.004142</td>\n",
              "      <td>1</td>\n",
              "    </tr>\n",
              "    <tr>\n",
              "      <th>...</th>\n",
              "      <td>...</td>\n",
              "      <td>...</td>\n",
              "      <td>...</td>\n",
              "      <td>...</td>\n",
              "      <td>...</td>\n",
              "      <td>...</td>\n",
              "      <td>...</td>\n",
              "      <td>...</td>\n",
              "      <td>...</td>\n",
              "      <td>...</td>\n",
              "      <td>...</td>\n",
              "      <td>...</td>\n",
              "      <td>...</td>\n",
              "      <td>...</td>\n",
              "      <td>...</td>\n",
              "      <td>...</td>\n",
              "      <td>...</td>\n",
              "    </tr>\n",
              "    <tr>\n",
              "      <th>265682</th>\n",
              "      <td>304563</td>\n",
              "      <td>0</td>\n",
              "      <td>0</td>\n",
              "      <td>0</td>\n",
              "      <td>0</td>\n",
              "      <td>0</td>\n",
              "      <td>13903</td>\n",
              "      <td>0.000000</td>\n",
              "      <td>0.001890</td>\n",
              "      <td>0.004556</td>\n",
              "      <td>-0.002882</td>\n",
              "      <td>0.001538</td>\n",
              "      <td>0.001718</td>\n",
              "      <td>0.000000</td>\n",
              "      <td>0.001817</td>\n",
              "      <td>0.003636</td>\n",
              "      <td>72</td>\n",
              "    </tr>\n",
              "    <tr>\n",
              "      <th>265683</th>\n",
              "      <td>304564</td>\n",
              "      <td>0</td>\n",
              "      <td>0</td>\n",
              "      <td>0</td>\n",
              "      <td>0</td>\n",
              "      <td>0</td>\n",
              "      <td>13923</td>\n",
              "      <td>0.019608</td>\n",
              "      <td>-0.001887</td>\n",
              "      <td>0.000000</td>\n",
              "      <td>0.002890</td>\n",
              "      <td>0.000000</td>\n",
              "      <td>0.000000</td>\n",
              "      <td>0.000000</td>\n",
              "      <td>-0.005442</td>\n",
              "      <td>-0.001268</td>\n",
              "      <td>72</td>\n",
              "    </tr>\n",
              "    <tr>\n",
              "      <th>265684</th>\n",
              "      <td>304565</td>\n",
              "      <td>0</td>\n",
              "      <td>0</td>\n",
              "      <td>0</td>\n",
              "      <td>0</td>\n",
              "      <td>0</td>\n",
              "      <td>13943</td>\n",
              "      <td>-0.028846</td>\n",
              "      <td>0.000000</td>\n",
              "      <td>0.004535</td>\n",
              "      <td>0.000000</td>\n",
              "      <td>0.000000</td>\n",
              "      <td>0.001715</td>\n",
              "      <td>0.009259</td>\n",
              "      <td>0.007296</td>\n",
              "      <td>-0.000181</td>\n",
              "      <td>72</td>\n",
              "    </tr>\n",
              "    <tr>\n",
              "      <th>265685</th>\n",
              "      <td>304566</td>\n",
              "      <td>0</td>\n",
              "      <td>0</td>\n",
              "      <td>0</td>\n",
              "      <td>0</td>\n",
              "      <td>0</td>\n",
              "      <td>13963</td>\n",
              "      <td>0.000000</td>\n",
              "      <td>0.000000</td>\n",
              "      <td>-0.004515</td>\n",
              "      <td>0.000000</td>\n",
              "      <td>0.000000</td>\n",
              "      <td>0.001712</td>\n",
              "      <td>-0.009174</td>\n",
              "      <td>-0.002263</td>\n",
              "      <td>0.001814</td>\n",
              "      <td>72</td>\n",
              "    </tr>\n",
              "    <tr>\n",
              "      <th>265686</th>\n",
              "      <td>304567</td>\n",
              "      <td>0</td>\n",
              "      <td>0</td>\n",
              "      <td>0</td>\n",
              "      <td>0</td>\n",
              "      <td>0</td>\n",
              "      <td>13983</td>\n",
              "      <td>-0.009901</td>\n",
              "      <td>-0.001890</td>\n",
              "      <td>-0.002268</td>\n",
              "      <td>0.000000</td>\n",
              "      <td>0.000000</td>\n",
              "      <td>-0.001709</td>\n",
              "      <td>0.009259</td>\n",
              "      <td>-0.003176</td>\n",
              "      <td>0.000000</td>\n",
              "      <td>72</td>\n",
              "    </tr>\n",
              "  </tbody>\n",
              "</table>\n",
              "<p>265687 rows × 17 columns</p>\n",
              "</div>\n",
              "    <div class=\"colab-df-buttons\">\n",
              "\n",
              "  <div class=\"colab-df-container\">\n",
              "    <button class=\"colab-df-convert\" onclick=\"convertToInteractive('df-bba065ac-034f-4ee6-a059-c533f01ff283')\"\n",
              "            title=\"Convert this dataframe to an interactive table.\"\n",
              "            style=\"display:none;\">\n",
              "\n",
              "  <svg xmlns=\"http://www.w3.org/2000/svg\" height=\"24px\" viewBox=\"0 -960 960 960\">\n",
              "    <path d=\"M120-120v-720h720v720H120Zm60-500h600v-160H180v160Zm220 220h160v-160H400v160Zm0 220h160v-160H400v160ZM180-400h160v-160H180v160Zm440 0h160v-160H620v160ZM180-180h160v-160H180v160Zm440 0h160v-160H620v160Z\"/>\n",
              "  </svg>\n",
              "    </button>\n",
              "\n",
              "  <style>\n",
              "    .colab-df-container {\n",
              "      display:flex;\n",
              "      gap: 12px;\n",
              "    }\n",
              "\n",
              "    .colab-df-convert {\n",
              "      background-color: #E8F0FE;\n",
              "      border: none;\n",
              "      border-radius: 50%;\n",
              "      cursor: pointer;\n",
              "      display: none;\n",
              "      fill: #1967D2;\n",
              "      height: 32px;\n",
              "      padding: 0 0 0 0;\n",
              "      width: 32px;\n",
              "    }\n",
              "\n",
              "    .colab-df-convert:hover {\n",
              "      background-color: #E2EBFA;\n",
              "      box-shadow: 0px 1px 2px rgba(60, 64, 67, 0.3), 0px 1px 3px 1px rgba(60, 64, 67, 0.15);\n",
              "      fill: #174EA6;\n",
              "    }\n",
              "\n",
              "    .colab-df-buttons div {\n",
              "      margin-bottom: 4px;\n",
              "    }\n",
              "\n",
              "    [theme=dark] .colab-df-convert {\n",
              "      background-color: #3B4455;\n",
              "      fill: #D2E3FC;\n",
              "    }\n",
              "\n",
              "    [theme=dark] .colab-df-convert:hover {\n",
              "      background-color: #434B5C;\n",
              "      box-shadow: 0px 1px 3px 1px rgba(0, 0, 0, 0.15);\n",
              "      filter: drop-shadow(0px 1px 2px rgba(0, 0, 0, 0.3));\n",
              "      fill: #FFFFFF;\n",
              "    }\n",
              "  </style>\n",
              "\n",
              "    <script>\n",
              "      const buttonEl =\n",
              "        document.querySelector('#df-bba065ac-034f-4ee6-a059-c533f01ff283 button.colab-df-convert');\n",
              "      buttonEl.style.display =\n",
              "        google.colab.kernel.accessAllowed ? 'block' : 'none';\n",
              "\n",
              "      async function convertToInteractive(key) {\n",
              "        const element = document.querySelector('#df-bba065ac-034f-4ee6-a059-c533f01ff283');\n",
              "        const dataTable =\n",
              "          await google.colab.kernel.invokeFunction('convertToInteractive',\n",
              "                                                    [key], {});\n",
              "        if (!dataTable) return;\n",
              "\n",
              "        const docLinkHtml = 'Like what you see? Visit the ' +\n",
              "          '<a target=\"_blank\" href=https://colab.research.google.com/notebooks/data_table.ipynb>data table notebook</a>'\n",
              "          + ' to learn more about interactive tables.';\n",
              "        element.innerHTML = '';\n",
              "        dataTable['output_type'] = 'display_data';\n",
              "        await google.colab.output.renderOutput(dataTable, element);\n",
              "        const docLink = document.createElement('div');\n",
              "        docLink.innerHTML = docLinkHtml;\n",
              "        element.appendChild(docLink);\n",
              "      }\n",
              "    </script>\n",
              "  </div>\n",
              "\n",
              "\n",
              "<div id=\"df-3eccb863-81da-4757-8fea-82fb83678ed4\">\n",
              "  <button class=\"colab-df-quickchart\" onclick=\"quickchart('df-3eccb863-81da-4757-8fea-82fb83678ed4')\"\n",
              "            title=\"Suggest charts\"\n",
              "            style=\"display:none;\">\n",
              "\n",
              "<svg xmlns=\"http://www.w3.org/2000/svg\" height=\"24px\"viewBox=\"0 0 24 24\"\n",
              "     width=\"24px\">\n",
              "    <g>\n",
              "        <path d=\"M19 3H5c-1.1 0-2 .9-2 2v14c0 1.1.9 2 2 2h14c1.1 0 2-.9 2-2V5c0-1.1-.9-2-2-2zM9 17H7v-7h2v7zm4 0h-2V7h2v10zm4 0h-2v-4h2v4z\"/>\n",
              "    </g>\n",
              "</svg>\n",
              "  </button>\n",
              "\n",
              "<style>\n",
              "  .colab-df-quickchart {\n",
              "      --bg-color: #E8F0FE;\n",
              "      --fill-color: #1967D2;\n",
              "      --hover-bg-color: #E2EBFA;\n",
              "      --hover-fill-color: #174EA6;\n",
              "      --disabled-fill-color: #AAA;\n",
              "      --disabled-bg-color: #DDD;\n",
              "  }\n",
              "\n",
              "  [theme=dark] .colab-df-quickchart {\n",
              "      --bg-color: #3B4455;\n",
              "      --fill-color: #D2E3FC;\n",
              "      --hover-bg-color: #434B5C;\n",
              "      --hover-fill-color: #FFFFFF;\n",
              "      --disabled-bg-color: #3B4455;\n",
              "      --disabled-fill-color: #666;\n",
              "  }\n",
              "\n",
              "  .colab-df-quickchart {\n",
              "    background-color: var(--bg-color);\n",
              "    border: none;\n",
              "    border-radius: 50%;\n",
              "    cursor: pointer;\n",
              "    display: none;\n",
              "    fill: var(--fill-color);\n",
              "    height: 32px;\n",
              "    padding: 0;\n",
              "    width: 32px;\n",
              "  }\n",
              "\n",
              "  .colab-df-quickchart:hover {\n",
              "    background-color: var(--hover-bg-color);\n",
              "    box-shadow: 0 1px 2px rgba(60, 64, 67, 0.3), 0 1px 3px 1px rgba(60, 64, 67, 0.15);\n",
              "    fill: var(--button-hover-fill-color);\n",
              "  }\n",
              "\n",
              "  .colab-df-quickchart-complete:disabled,\n",
              "  .colab-df-quickchart-complete:disabled:hover {\n",
              "    background-color: var(--disabled-bg-color);\n",
              "    fill: var(--disabled-fill-color);\n",
              "    box-shadow: none;\n",
              "  }\n",
              "\n",
              "  .colab-df-spinner {\n",
              "    border: 2px solid var(--fill-color);\n",
              "    border-color: transparent;\n",
              "    border-bottom-color: var(--fill-color);\n",
              "    animation:\n",
              "      spin 1s steps(1) infinite;\n",
              "  }\n",
              "\n",
              "  @keyframes spin {\n",
              "    0% {\n",
              "      border-color: transparent;\n",
              "      border-bottom-color: var(--fill-color);\n",
              "      border-left-color: var(--fill-color);\n",
              "    }\n",
              "    20% {\n",
              "      border-color: transparent;\n",
              "      border-left-color: var(--fill-color);\n",
              "      border-top-color: var(--fill-color);\n",
              "    }\n",
              "    30% {\n",
              "      border-color: transparent;\n",
              "      border-left-color: var(--fill-color);\n",
              "      border-top-color: var(--fill-color);\n",
              "      border-right-color: var(--fill-color);\n",
              "    }\n",
              "    40% {\n",
              "      border-color: transparent;\n",
              "      border-right-color: var(--fill-color);\n",
              "      border-top-color: var(--fill-color);\n",
              "    }\n",
              "    60% {\n",
              "      border-color: transparent;\n",
              "      border-right-color: var(--fill-color);\n",
              "    }\n",
              "    80% {\n",
              "      border-color: transparent;\n",
              "      border-right-color: var(--fill-color);\n",
              "      border-bottom-color: var(--fill-color);\n",
              "    }\n",
              "    90% {\n",
              "      border-color: transparent;\n",
              "      border-bottom-color: var(--fill-color);\n",
              "    }\n",
              "  }\n",
              "</style>\n",
              "\n",
              "  <script>\n",
              "    async function quickchart(key) {\n",
              "      const quickchartButtonEl =\n",
              "        document.querySelector('#' + key + ' button');\n",
              "      quickchartButtonEl.disabled = true;  // To prevent multiple clicks.\n",
              "      quickchartButtonEl.classList.add('colab-df-spinner');\n",
              "      try {\n",
              "        const charts = await google.colab.kernel.invokeFunction(\n",
              "            'suggestCharts', [key], {});\n",
              "      } catch (error) {\n",
              "        console.error('Error during call to suggestCharts:', error);\n",
              "      }\n",
              "      quickchartButtonEl.classList.remove('colab-df-spinner');\n",
              "      quickchartButtonEl.classList.add('colab-df-quickchart-complete');\n",
              "    }\n",
              "    (() => {\n",
              "      let quickchartButtonEl =\n",
              "        document.querySelector('#df-3eccb863-81da-4757-8fea-82fb83678ed4 button');\n",
              "      quickchartButtonEl.style.display =\n",
              "        google.colab.kernel.accessAllowed ? 'block' : 'none';\n",
              "    })();\n",
              "  </script>\n",
              "</div>\n",
              "    </div>\n",
              "  </div>\n"
            ]
          },
          "metadata": {},
          "execution_count": 74
        }
      ]
    },
    {
      "cell_type": "code",
      "source": [
        "# df_train = df_train.drop(0, axis=0)\n",
        "df_train.head()"
      ],
      "metadata": {
        "colab": {
          "base_uri": "https://localhost:8080/",
          "height": 0
        },
        "id": "icr0wFu1fGod",
        "outputId": "51d8a6cf-58b3-46af-ba32-9b142d8d6cc0"
      },
      "execution_count": 75,
      "outputs": [
        {
          "output_type": "execute_result",
          "data": {
            "text/plain": [
              "   Unnamed: 0  Living room  Bedroom  Bathroom  Kitchen  Hallway  \\\n",
              "0           0            0        0         0        0        0   \n",
              "1           1            0        0         0        0        0   \n",
              "2           2            1        0         0        0        0   \n",
              "3           3            1        0         0        0        0   \n",
              "4           4            1        0         0        0        0   \n",
              "\n",
              "   timestamp_in_seconds  var_CO2CosIRValue  var_CO2MG811Value  var_MOX1  \\\n",
              "0                     7           0.000000           0.000000  0.000000   \n",
              "1                    27          -0.018349           0.003766  0.010225   \n",
              "2                    47           0.000000          -0.005629 -0.006073   \n",
              "3                    67          -0.009346           0.003774 -0.004073   \n",
              "4                    87          -0.028302           0.000000  0.002045   \n",
              "\n",
              "    varMOX2  var_MOX3  var_MOX4  var_COValue  var_temperature  var_humidity  \\\n",
              "0  0.000000  0.000000  0.000000     0.000000         0.000000      0.000000   \n",
              "1  0.002837 -0.001517  0.005000     0.000000        -0.003293      0.005023   \n",
              "2  0.001414 -0.003040 -0.011609    -0.008197        -0.003775     -0.008616   \n",
              "3  0.002825  0.000000  0.001678     0.041322         0.000474      0.007127   \n",
              "4 -0.007042  0.003049  0.000000     0.031746        -0.002841      0.004142   \n",
              "\n",
              "   mapped_date  \n",
              "0            1  \n",
              "1            1  \n",
              "2            1  \n",
              "3            1  \n",
              "4            1  "
            ],
            "text/html": [
              "\n",
              "  <div id=\"df-943b3d18-46d6-462c-977a-227ed5c040e9\" class=\"colab-df-container\">\n",
              "    <div>\n",
              "<style scoped>\n",
              "    .dataframe tbody tr th:only-of-type {\n",
              "        vertical-align: middle;\n",
              "    }\n",
              "\n",
              "    .dataframe tbody tr th {\n",
              "        vertical-align: top;\n",
              "    }\n",
              "\n",
              "    .dataframe thead th {\n",
              "        text-align: right;\n",
              "    }\n",
              "</style>\n",
              "<table border=\"1\" class=\"dataframe\">\n",
              "  <thead>\n",
              "    <tr style=\"text-align: right;\">\n",
              "      <th></th>\n",
              "      <th>Unnamed: 0</th>\n",
              "      <th>Living room</th>\n",
              "      <th>Bedroom</th>\n",
              "      <th>Bathroom</th>\n",
              "      <th>Kitchen</th>\n",
              "      <th>Hallway</th>\n",
              "      <th>timestamp_in_seconds</th>\n",
              "      <th>var_CO2CosIRValue</th>\n",
              "      <th>var_CO2MG811Value</th>\n",
              "      <th>var_MOX1</th>\n",
              "      <th>varMOX2</th>\n",
              "      <th>var_MOX3</th>\n",
              "      <th>var_MOX4</th>\n",
              "      <th>var_COValue</th>\n",
              "      <th>var_temperature</th>\n",
              "      <th>var_humidity</th>\n",
              "      <th>mapped_date</th>\n",
              "    </tr>\n",
              "  </thead>\n",
              "  <tbody>\n",
              "    <tr>\n",
              "      <th>0</th>\n",
              "      <td>0</td>\n",
              "      <td>0</td>\n",
              "      <td>0</td>\n",
              "      <td>0</td>\n",
              "      <td>0</td>\n",
              "      <td>0</td>\n",
              "      <td>7</td>\n",
              "      <td>0.000000</td>\n",
              "      <td>0.000000</td>\n",
              "      <td>0.000000</td>\n",
              "      <td>0.000000</td>\n",
              "      <td>0.000000</td>\n",
              "      <td>0.000000</td>\n",
              "      <td>0.000000</td>\n",
              "      <td>0.000000</td>\n",
              "      <td>0.000000</td>\n",
              "      <td>1</td>\n",
              "    </tr>\n",
              "    <tr>\n",
              "      <th>1</th>\n",
              "      <td>1</td>\n",
              "      <td>0</td>\n",
              "      <td>0</td>\n",
              "      <td>0</td>\n",
              "      <td>0</td>\n",
              "      <td>0</td>\n",
              "      <td>27</td>\n",
              "      <td>-0.018349</td>\n",
              "      <td>0.003766</td>\n",
              "      <td>0.010225</td>\n",
              "      <td>0.002837</td>\n",
              "      <td>-0.001517</td>\n",
              "      <td>0.005000</td>\n",
              "      <td>0.000000</td>\n",
              "      <td>-0.003293</td>\n",
              "      <td>0.005023</td>\n",
              "      <td>1</td>\n",
              "    </tr>\n",
              "    <tr>\n",
              "      <th>2</th>\n",
              "      <td>2</td>\n",
              "      <td>1</td>\n",
              "      <td>0</td>\n",
              "      <td>0</td>\n",
              "      <td>0</td>\n",
              "      <td>0</td>\n",
              "      <td>47</td>\n",
              "      <td>0.000000</td>\n",
              "      <td>-0.005629</td>\n",
              "      <td>-0.006073</td>\n",
              "      <td>0.001414</td>\n",
              "      <td>-0.003040</td>\n",
              "      <td>-0.011609</td>\n",
              "      <td>-0.008197</td>\n",
              "      <td>-0.003775</td>\n",
              "      <td>-0.008616</td>\n",
              "      <td>1</td>\n",
              "    </tr>\n",
              "    <tr>\n",
              "      <th>3</th>\n",
              "      <td>3</td>\n",
              "      <td>1</td>\n",
              "      <td>0</td>\n",
              "      <td>0</td>\n",
              "      <td>0</td>\n",
              "      <td>0</td>\n",
              "      <td>67</td>\n",
              "      <td>-0.009346</td>\n",
              "      <td>0.003774</td>\n",
              "      <td>-0.004073</td>\n",
              "      <td>0.002825</td>\n",
              "      <td>0.000000</td>\n",
              "      <td>0.001678</td>\n",
              "      <td>0.041322</td>\n",
              "      <td>0.000474</td>\n",
              "      <td>0.007127</td>\n",
              "      <td>1</td>\n",
              "    </tr>\n",
              "    <tr>\n",
              "      <th>4</th>\n",
              "      <td>4</td>\n",
              "      <td>1</td>\n",
              "      <td>0</td>\n",
              "      <td>0</td>\n",
              "      <td>0</td>\n",
              "      <td>0</td>\n",
              "      <td>87</td>\n",
              "      <td>-0.028302</td>\n",
              "      <td>0.000000</td>\n",
              "      <td>0.002045</td>\n",
              "      <td>-0.007042</td>\n",
              "      <td>0.003049</td>\n",
              "      <td>0.000000</td>\n",
              "      <td>0.031746</td>\n",
              "      <td>-0.002841</td>\n",
              "      <td>0.004142</td>\n",
              "      <td>1</td>\n",
              "    </tr>\n",
              "  </tbody>\n",
              "</table>\n",
              "</div>\n",
              "    <div class=\"colab-df-buttons\">\n",
              "\n",
              "  <div class=\"colab-df-container\">\n",
              "    <button class=\"colab-df-convert\" onclick=\"convertToInteractive('df-943b3d18-46d6-462c-977a-227ed5c040e9')\"\n",
              "            title=\"Convert this dataframe to an interactive table.\"\n",
              "            style=\"display:none;\">\n",
              "\n",
              "  <svg xmlns=\"http://www.w3.org/2000/svg\" height=\"24px\" viewBox=\"0 -960 960 960\">\n",
              "    <path d=\"M120-120v-720h720v720H120Zm60-500h600v-160H180v160Zm220 220h160v-160H400v160Zm0 220h160v-160H400v160ZM180-400h160v-160H180v160Zm440 0h160v-160H620v160ZM180-180h160v-160H180v160Zm440 0h160v-160H620v160Z\"/>\n",
              "  </svg>\n",
              "    </button>\n",
              "\n",
              "  <style>\n",
              "    .colab-df-container {\n",
              "      display:flex;\n",
              "      gap: 12px;\n",
              "    }\n",
              "\n",
              "    .colab-df-convert {\n",
              "      background-color: #E8F0FE;\n",
              "      border: none;\n",
              "      border-radius: 50%;\n",
              "      cursor: pointer;\n",
              "      display: none;\n",
              "      fill: #1967D2;\n",
              "      height: 32px;\n",
              "      padding: 0 0 0 0;\n",
              "      width: 32px;\n",
              "    }\n",
              "\n",
              "    .colab-df-convert:hover {\n",
              "      background-color: #E2EBFA;\n",
              "      box-shadow: 0px 1px 2px rgba(60, 64, 67, 0.3), 0px 1px 3px 1px rgba(60, 64, 67, 0.15);\n",
              "      fill: #174EA6;\n",
              "    }\n",
              "\n",
              "    .colab-df-buttons div {\n",
              "      margin-bottom: 4px;\n",
              "    }\n",
              "\n",
              "    [theme=dark] .colab-df-convert {\n",
              "      background-color: #3B4455;\n",
              "      fill: #D2E3FC;\n",
              "    }\n",
              "\n",
              "    [theme=dark] .colab-df-convert:hover {\n",
              "      background-color: #434B5C;\n",
              "      box-shadow: 0px 1px 3px 1px rgba(0, 0, 0, 0.15);\n",
              "      filter: drop-shadow(0px 1px 2px rgba(0, 0, 0, 0.3));\n",
              "      fill: #FFFFFF;\n",
              "    }\n",
              "  </style>\n",
              "\n",
              "    <script>\n",
              "      const buttonEl =\n",
              "        document.querySelector('#df-943b3d18-46d6-462c-977a-227ed5c040e9 button.colab-df-convert');\n",
              "      buttonEl.style.display =\n",
              "        google.colab.kernel.accessAllowed ? 'block' : 'none';\n",
              "\n",
              "      async function convertToInteractive(key) {\n",
              "        const element = document.querySelector('#df-943b3d18-46d6-462c-977a-227ed5c040e9');\n",
              "        const dataTable =\n",
              "          await google.colab.kernel.invokeFunction('convertToInteractive',\n",
              "                                                    [key], {});\n",
              "        if (!dataTable) return;\n",
              "\n",
              "        const docLinkHtml = 'Like what you see? Visit the ' +\n",
              "          '<a target=\"_blank\" href=https://colab.research.google.com/notebooks/data_table.ipynb>data table notebook</a>'\n",
              "          + ' to learn more about interactive tables.';\n",
              "        element.innerHTML = '';\n",
              "        dataTable['output_type'] = 'display_data';\n",
              "        await google.colab.output.renderOutput(dataTable, element);\n",
              "        const docLink = document.createElement('div');\n",
              "        docLink.innerHTML = docLinkHtml;\n",
              "        element.appendChild(docLink);\n",
              "      }\n",
              "    </script>\n",
              "  </div>\n",
              "\n",
              "\n",
              "<div id=\"df-a4be9f5e-c04c-48db-a6e5-528a5ea19717\">\n",
              "  <button class=\"colab-df-quickchart\" onclick=\"quickchart('df-a4be9f5e-c04c-48db-a6e5-528a5ea19717')\"\n",
              "            title=\"Suggest charts\"\n",
              "            style=\"display:none;\">\n",
              "\n",
              "<svg xmlns=\"http://www.w3.org/2000/svg\" height=\"24px\"viewBox=\"0 0 24 24\"\n",
              "     width=\"24px\">\n",
              "    <g>\n",
              "        <path d=\"M19 3H5c-1.1 0-2 .9-2 2v14c0 1.1.9 2 2 2h14c1.1 0 2-.9 2-2V5c0-1.1-.9-2-2-2zM9 17H7v-7h2v7zm4 0h-2V7h2v10zm4 0h-2v-4h2v4z\"/>\n",
              "    </g>\n",
              "</svg>\n",
              "  </button>\n",
              "\n",
              "<style>\n",
              "  .colab-df-quickchart {\n",
              "      --bg-color: #E8F0FE;\n",
              "      --fill-color: #1967D2;\n",
              "      --hover-bg-color: #E2EBFA;\n",
              "      --hover-fill-color: #174EA6;\n",
              "      --disabled-fill-color: #AAA;\n",
              "      --disabled-bg-color: #DDD;\n",
              "  }\n",
              "\n",
              "  [theme=dark] .colab-df-quickchart {\n",
              "      --bg-color: #3B4455;\n",
              "      --fill-color: #D2E3FC;\n",
              "      --hover-bg-color: #434B5C;\n",
              "      --hover-fill-color: #FFFFFF;\n",
              "      --disabled-bg-color: #3B4455;\n",
              "      --disabled-fill-color: #666;\n",
              "  }\n",
              "\n",
              "  .colab-df-quickchart {\n",
              "    background-color: var(--bg-color);\n",
              "    border: none;\n",
              "    border-radius: 50%;\n",
              "    cursor: pointer;\n",
              "    display: none;\n",
              "    fill: var(--fill-color);\n",
              "    height: 32px;\n",
              "    padding: 0;\n",
              "    width: 32px;\n",
              "  }\n",
              "\n",
              "  .colab-df-quickchart:hover {\n",
              "    background-color: var(--hover-bg-color);\n",
              "    box-shadow: 0 1px 2px rgba(60, 64, 67, 0.3), 0 1px 3px 1px rgba(60, 64, 67, 0.15);\n",
              "    fill: var(--button-hover-fill-color);\n",
              "  }\n",
              "\n",
              "  .colab-df-quickchart-complete:disabled,\n",
              "  .colab-df-quickchart-complete:disabled:hover {\n",
              "    background-color: var(--disabled-bg-color);\n",
              "    fill: var(--disabled-fill-color);\n",
              "    box-shadow: none;\n",
              "  }\n",
              "\n",
              "  .colab-df-spinner {\n",
              "    border: 2px solid var(--fill-color);\n",
              "    border-color: transparent;\n",
              "    border-bottom-color: var(--fill-color);\n",
              "    animation:\n",
              "      spin 1s steps(1) infinite;\n",
              "  }\n",
              "\n",
              "  @keyframes spin {\n",
              "    0% {\n",
              "      border-color: transparent;\n",
              "      border-bottom-color: var(--fill-color);\n",
              "      border-left-color: var(--fill-color);\n",
              "    }\n",
              "    20% {\n",
              "      border-color: transparent;\n",
              "      border-left-color: var(--fill-color);\n",
              "      border-top-color: var(--fill-color);\n",
              "    }\n",
              "    30% {\n",
              "      border-color: transparent;\n",
              "      border-left-color: var(--fill-color);\n",
              "      border-top-color: var(--fill-color);\n",
              "      border-right-color: var(--fill-color);\n",
              "    }\n",
              "    40% {\n",
              "      border-color: transparent;\n",
              "      border-right-color: var(--fill-color);\n",
              "      border-top-color: var(--fill-color);\n",
              "    }\n",
              "    60% {\n",
              "      border-color: transparent;\n",
              "      border-right-color: var(--fill-color);\n",
              "    }\n",
              "    80% {\n",
              "      border-color: transparent;\n",
              "      border-right-color: var(--fill-color);\n",
              "      border-bottom-color: var(--fill-color);\n",
              "    }\n",
              "    90% {\n",
              "      border-color: transparent;\n",
              "      border-bottom-color: var(--fill-color);\n",
              "    }\n",
              "  }\n",
              "</style>\n",
              "\n",
              "  <script>\n",
              "    async function quickchart(key) {\n",
              "      const quickchartButtonEl =\n",
              "        document.querySelector('#' + key + ' button');\n",
              "      quickchartButtonEl.disabled = true;  // To prevent multiple clicks.\n",
              "      quickchartButtonEl.classList.add('colab-df-spinner');\n",
              "      try {\n",
              "        const charts = await google.colab.kernel.invokeFunction(\n",
              "            'suggestCharts', [key], {});\n",
              "      } catch (error) {\n",
              "        console.error('Error during call to suggestCharts:', error);\n",
              "      }\n",
              "      quickchartButtonEl.classList.remove('colab-df-spinner');\n",
              "      quickchartButtonEl.classList.add('colab-df-quickchart-complete');\n",
              "    }\n",
              "    (() => {\n",
              "      let quickchartButtonEl =\n",
              "        document.querySelector('#df-a4be9f5e-c04c-48db-a6e5-528a5ea19717 button');\n",
              "      quickchartButtonEl.style.display =\n",
              "        google.colab.kernel.accessAllowed ? 'block' : 'none';\n",
              "    })();\n",
              "  </script>\n",
              "</div>\n",
              "    </div>\n",
              "  </div>\n"
            ]
          },
          "metadata": {},
          "execution_count": 75
        }
      ]
    },
    {
      "cell_type": "markdown",
      "source": [
        "# Dataset statistics"
      ],
      "metadata": {
        "id": "nxdyUM0JlM5w"
      }
    },
    {
      "cell_type": "code",
      "source": [
        "'Living room', 'Bedroom', 'Bathroom', 'Kitchen', 'Hallway'"
      ],
      "metadata": {
        "colab": {
          "base_uri": "https://localhost:8080/"
        },
        "id": "MXVXno5BmqHf",
        "outputId": "0bc4fe38-1e76-49ac-8cda-1a15f2182d60"
      },
      "execution_count": null,
      "outputs": [
        {
          "output_type": "execute_result",
          "data": {
            "text/plain": [
              "('Living room', 'Bedroom', 'Bathroom', 'Kitchen', 'Hallway')"
            ]
          },
          "metadata": {},
          "execution_count": 442
        }
      ]
    },
    {
      "cell_type": "code",
      "source": [
        "df_living = df_train[df_train['Living room'] == 1]\n",
        "df_bedroom = df_train[df_train['Bedroom'] == 1]\n",
        "df_bathroom = df_train[df_train['Bathroom'] == 1]\n",
        "df_kitchen = df_train[df_train['Kitchen'] == 1]\n",
        "df_hallway = df_train[df_train['Hallway'] == 1]"
      ],
      "metadata": {
        "id": "8bgvYvc7gvbJ"
      },
      "execution_count": null,
      "outputs": []
    },
    {
      "cell_type": "code",
      "source": [
        "df_living[['temperature', 'humidity', 'CO2CosIRValue', 'CO2MG811Value', 'MOX1', 'MOX2', 'MOX3', 'MOX4',  'COValue']].describe()"
      ],
      "metadata": {
        "colab": {
          "base_uri": "https://localhost:8080/",
          "height": 321
        },
        "id": "mYDeML4IhQ8j",
        "outputId": "dae68a07-6f39-4959-f6cf-25a64d85cf5b"
      },
      "execution_count": null,
      "outputs": [
        {
          "output_type": "error",
          "ename": "KeyError",
          "evalue": "\"None of [Index(['temperature', 'humidity', 'CO2CosIRValue', 'CO2MG811Value', 'MOX1',\\n       'MOX2', 'MOX3', 'MOX4', 'COValue'],\\n      dtype='object')] are in the [columns]\"",
          "traceback": [
            "\u001b[0;31m---------------------------------------------------------------------------\u001b[0m",
            "\u001b[0;31mKeyError\u001b[0m                                  Traceback (most recent call last)",
            "\u001b[0;32m<ipython-input-444-2dc4c05378d4>\u001b[0m in \u001b[0;36m<cell line: 1>\u001b[0;34m()\u001b[0m\n\u001b[0;32m----> 1\u001b[0;31m \u001b[0mdf_living\u001b[0m\u001b[0;34m[\u001b[0m\u001b[0;34m[\u001b[0m\u001b[0;34m'temperature'\u001b[0m\u001b[0;34m,\u001b[0m \u001b[0;34m'humidity'\u001b[0m\u001b[0;34m,\u001b[0m \u001b[0;34m'CO2CosIRValue'\u001b[0m\u001b[0;34m,\u001b[0m \u001b[0;34m'CO2MG811Value'\u001b[0m\u001b[0;34m,\u001b[0m \u001b[0;34m'MOX1'\u001b[0m\u001b[0;34m,\u001b[0m \u001b[0;34m'MOX2'\u001b[0m\u001b[0;34m,\u001b[0m \u001b[0;34m'MOX3'\u001b[0m\u001b[0;34m,\u001b[0m \u001b[0;34m'MOX4'\u001b[0m\u001b[0;34m,\u001b[0m  \u001b[0;34m'COValue'\u001b[0m\u001b[0;34m]\u001b[0m\u001b[0;34m]\u001b[0m\u001b[0;34m.\u001b[0m\u001b[0mdescribe\u001b[0m\u001b[0;34m(\u001b[0m\u001b[0;34m)\u001b[0m\u001b[0;34m\u001b[0m\u001b[0;34m\u001b[0m\u001b[0m\n\u001b[0m",
            "\u001b[0;32m/usr/local/lib/python3.10/dist-packages/pandas/core/frame.py\u001b[0m in \u001b[0;36m__getitem__\u001b[0;34m(self, key)\u001b[0m\n\u001b[1;32m   3811\u001b[0m             \u001b[0;32mif\u001b[0m \u001b[0mis_iterator\u001b[0m\u001b[0;34m(\u001b[0m\u001b[0mkey\u001b[0m\u001b[0;34m)\u001b[0m\u001b[0;34m:\u001b[0m\u001b[0;34m\u001b[0m\u001b[0;34m\u001b[0m\u001b[0m\n\u001b[1;32m   3812\u001b[0m                 \u001b[0mkey\u001b[0m \u001b[0;34m=\u001b[0m \u001b[0mlist\u001b[0m\u001b[0;34m(\u001b[0m\u001b[0mkey\u001b[0m\u001b[0;34m)\u001b[0m\u001b[0;34m\u001b[0m\u001b[0;34m\u001b[0m\u001b[0m\n\u001b[0;32m-> 3813\u001b[0;31m             \u001b[0mindexer\u001b[0m \u001b[0;34m=\u001b[0m \u001b[0mself\u001b[0m\u001b[0;34m.\u001b[0m\u001b[0mcolumns\u001b[0m\u001b[0;34m.\u001b[0m\u001b[0m_get_indexer_strict\u001b[0m\u001b[0;34m(\u001b[0m\u001b[0mkey\u001b[0m\u001b[0;34m,\u001b[0m \u001b[0;34m\"columns\"\u001b[0m\u001b[0;34m)\u001b[0m\u001b[0;34m[\u001b[0m\u001b[0;36m1\u001b[0m\u001b[0;34m]\u001b[0m\u001b[0;34m\u001b[0m\u001b[0;34m\u001b[0m\u001b[0m\n\u001b[0m\u001b[1;32m   3814\u001b[0m \u001b[0;34m\u001b[0m\u001b[0m\n\u001b[1;32m   3815\u001b[0m         \u001b[0;31m# take() does not accept boolean indexers\u001b[0m\u001b[0;34m\u001b[0m\u001b[0;34m\u001b[0m\u001b[0m\n",
            "\u001b[0;32m/usr/local/lib/python3.10/dist-packages/pandas/core/indexes/base.py\u001b[0m in \u001b[0;36m_get_indexer_strict\u001b[0;34m(self, key, axis_name)\u001b[0m\n\u001b[1;32m   6068\u001b[0m             \u001b[0mkeyarr\u001b[0m\u001b[0;34m,\u001b[0m \u001b[0mindexer\u001b[0m\u001b[0;34m,\u001b[0m \u001b[0mnew_indexer\u001b[0m \u001b[0;34m=\u001b[0m \u001b[0mself\u001b[0m\u001b[0;34m.\u001b[0m\u001b[0m_reindex_non_unique\u001b[0m\u001b[0;34m(\u001b[0m\u001b[0mkeyarr\u001b[0m\u001b[0;34m)\u001b[0m\u001b[0;34m\u001b[0m\u001b[0;34m\u001b[0m\u001b[0m\n\u001b[1;32m   6069\u001b[0m \u001b[0;34m\u001b[0m\u001b[0m\n\u001b[0;32m-> 6070\u001b[0;31m         \u001b[0mself\u001b[0m\u001b[0;34m.\u001b[0m\u001b[0m_raise_if_missing\u001b[0m\u001b[0;34m(\u001b[0m\u001b[0mkeyarr\u001b[0m\u001b[0;34m,\u001b[0m \u001b[0mindexer\u001b[0m\u001b[0;34m,\u001b[0m \u001b[0maxis_name\u001b[0m\u001b[0;34m)\u001b[0m\u001b[0;34m\u001b[0m\u001b[0;34m\u001b[0m\u001b[0m\n\u001b[0m\u001b[1;32m   6071\u001b[0m \u001b[0;34m\u001b[0m\u001b[0m\n\u001b[1;32m   6072\u001b[0m         \u001b[0mkeyarr\u001b[0m \u001b[0;34m=\u001b[0m \u001b[0mself\u001b[0m\u001b[0;34m.\u001b[0m\u001b[0mtake\u001b[0m\u001b[0;34m(\u001b[0m\u001b[0mindexer\u001b[0m\u001b[0;34m)\u001b[0m\u001b[0;34m\u001b[0m\u001b[0;34m\u001b[0m\u001b[0m\n",
            "\u001b[0;32m/usr/local/lib/python3.10/dist-packages/pandas/core/indexes/base.py\u001b[0m in \u001b[0;36m_raise_if_missing\u001b[0;34m(self, key, indexer, axis_name)\u001b[0m\n\u001b[1;32m   6128\u001b[0m                 \u001b[0;32mif\u001b[0m \u001b[0muse_interval_msg\u001b[0m\u001b[0;34m:\u001b[0m\u001b[0;34m\u001b[0m\u001b[0;34m\u001b[0m\u001b[0m\n\u001b[1;32m   6129\u001b[0m                     \u001b[0mkey\u001b[0m \u001b[0;34m=\u001b[0m \u001b[0mlist\u001b[0m\u001b[0;34m(\u001b[0m\u001b[0mkey\u001b[0m\u001b[0;34m)\u001b[0m\u001b[0;34m\u001b[0m\u001b[0;34m\u001b[0m\u001b[0m\n\u001b[0;32m-> 6130\u001b[0;31m                 \u001b[0;32mraise\u001b[0m \u001b[0mKeyError\u001b[0m\u001b[0;34m(\u001b[0m\u001b[0;34mf\"None of [{key}] are in the [{axis_name}]\"\u001b[0m\u001b[0;34m)\u001b[0m\u001b[0;34m\u001b[0m\u001b[0;34m\u001b[0m\u001b[0m\n\u001b[0m\u001b[1;32m   6131\u001b[0m \u001b[0;34m\u001b[0m\u001b[0m\n\u001b[1;32m   6132\u001b[0m             \u001b[0mnot_found\u001b[0m \u001b[0;34m=\u001b[0m \u001b[0mlist\u001b[0m\u001b[0;34m(\u001b[0m\u001b[0mensure_index\u001b[0m\u001b[0;34m(\u001b[0m\u001b[0mkey\u001b[0m\u001b[0;34m)\u001b[0m\u001b[0;34m[\u001b[0m\u001b[0mmissing_mask\u001b[0m\u001b[0;34m.\u001b[0m\u001b[0mnonzero\u001b[0m\u001b[0;34m(\u001b[0m\u001b[0;34m)\u001b[0m\u001b[0;34m[\u001b[0m\u001b[0;36m0\u001b[0m\u001b[0;34m]\u001b[0m\u001b[0;34m]\u001b[0m\u001b[0;34m.\u001b[0m\u001b[0munique\u001b[0m\u001b[0;34m(\u001b[0m\u001b[0;34m)\u001b[0m\u001b[0;34m)\u001b[0m\u001b[0;34m\u001b[0m\u001b[0;34m\u001b[0m\u001b[0m\n",
            "\u001b[0;31mKeyError\u001b[0m: \"None of [Index(['temperature', 'humidity', 'CO2CosIRValue', 'CO2MG811Value', 'MOX1',\\n       'MOX2', 'MOX3', 'MOX4', 'COValue'],\\n      dtype='object')] are in the [columns]\""
          ]
        }
      ]
    },
    {
      "cell_type": "code",
      "source": [
        "df_bedroom[['temperature', 'humidity', 'CO2CosIRValue', 'CO2MG811Value', 'MOX1', 'MOX2', 'MOX3', 'MOX4',  'COValue']].describe()\n"
      ],
      "metadata": {
        "colab": {
          "base_uri": "https://localhost:8080/",
          "height": 321
        },
        "id": "dmT09M1fi2CL",
        "outputId": "11c44194-4892-4461-e2c3-1bae70a082aa"
      },
      "execution_count": null,
      "outputs": [
        {
          "output_type": "error",
          "ename": "KeyError",
          "evalue": "\"None of [Index(['temperature', 'humidity', 'CO2CosIRValue', 'CO2MG811Value', 'MOX1',\\n       'MOX2', 'MOX3', 'MOX4', 'COValue'],\\n      dtype='object')] are in the [columns]\"",
          "traceback": [
            "\u001b[0;31m---------------------------------------------------------------------------\u001b[0m",
            "\u001b[0;31mKeyError\u001b[0m                                  Traceback (most recent call last)",
            "\u001b[0;32m<ipython-input-445-875ba9d60570>\u001b[0m in \u001b[0;36m<cell line: 1>\u001b[0;34m()\u001b[0m\n\u001b[0;32m----> 1\u001b[0;31m \u001b[0mdf_bedroom\u001b[0m\u001b[0;34m[\u001b[0m\u001b[0;34m[\u001b[0m\u001b[0;34m'temperature'\u001b[0m\u001b[0;34m,\u001b[0m \u001b[0;34m'humidity'\u001b[0m\u001b[0;34m,\u001b[0m \u001b[0;34m'CO2CosIRValue'\u001b[0m\u001b[0;34m,\u001b[0m \u001b[0;34m'CO2MG811Value'\u001b[0m\u001b[0;34m,\u001b[0m \u001b[0;34m'MOX1'\u001b[0m\u001b[0;34m,\u001b[0m \u001b[0;34m'MOX2'\u001b[0m\u001b[0;34m,\u001b[0m \u001b[0;34m'MOX3'\u001b[0m\u001b[0;34m,\u001b[0m \u001b[0;34m'MOX4'\u001b[0m\u001b[0;34m,\u001b[0m  \u001b[0;34m'COValue'\u001b[0m\u001b[0;34m]\u001b[0m\u001b[0;34m]\u001b[0m\u001b[0;34m.\u001b[0m\u001b[0mdescribe\u001b[0m\u001b[0;34m(\u001b[0m\u001b[0;34m)\u001b[0m\u001b[0;34m\u001b[0m\u001b[0;34m\u001b[0m\u001b[0m\n\u001b[0m",
            "\u001b[0;32m/usr/local/lib/python3.10/dist-packages/pandas/core/frame.py\u001b[0m in \u001b[0;36m__getitem__\u001b[0;34m(self, key)\u001b[0m\n\u001b[1;32m   3811\u001b[0m             \u001b[0;32mif\u001b[0m \u001b[0mis_iterator\u001b[0m\u001b[0;34m(\u001b[0m\u001b[0mkey\u001b[0m\u001b[0;34m)\u001b[0m\u001b[0;34m:\u001b[0m\u001b[0;34m\u001b[0m\u001b[0;34m\u001b[0m\u001b[0m\n\u001b[1;32m   3812\u001b[0m                 \u001b[0mkey\u001b[0m \u001b[0;34m=\u001b[0m \u001b[0mlist\u001b[0m\u001b[0;34m(\u001b[0m\u001b[0mkey\u001b[0m\u001b[0;34m)\u001b[0m\u001b[0;34m\u001b[0m\u001b[0;34m\u001b[0m\u001b[0m\n\u001b[0;32m-> 3813\u001b[0;31m             \u001b[0mindexer\u001b[0m \u001b[0;34m=\u001b[0m \u001b[0mself\u001b[0m\u001b[0;34m.\u001b[0m\u001b[0mcolumns\u001b[0m\u001b[0;34m.\u001b[0m\u001b[0m_get_indexer_strict\u001b[0m\u001b[0;34m(\u001b[0m\u001b[0mkey\u001b[0m\u001b[0;34m,\u001b[0m \u001b[0;34m\"columns\"\u001b[0m\u001b[0;34m)\u001b[0m\u001b[0;34m[\u001b[0m\u001b[0;36m1\u001b[0m\u001b[0;34m]\u001b[0m\u001b[0;34m\u001b[0m\u001b[0;34m\u001b[0m\u001b[0m\n\u001b[0m\u001b[1;32m   3814\u001b[0m \u001b[0;34m\u001b[0m\u001b[0m\n\u001b[1;32m   3815\u001b[0m         \u001b[0;31m# take() does not accept boolean indexers\u001b[0m\u001b[0;34m\u001b[0m\u001b[0;34m\u001b[0m\u001b[0m\n",
            "\u001b[0;32m/usr/local/lib/python3.10/dist-packages/pandas/core/indexes/base.py\u001b[0m in \u001b[0;36m_get_indexer_strict\u001b[0;34m(self, key, axis_name)\u001b[0m\n\u001b[1;32m   6068\u001b[0m             \u001b[0mkeyarr\u001b[0m\u001b[0;34m,\u001b[0m \u001b[0mindexer\u001b[0m\u001b[0;34m,\u001b[0m \u001b[0mnew_indexer\u001b[0m \u001b[0;34m=\u001b[0m \u001b[0mself\u001b[0m\u001b[0;34m.\u001b[0m\u001b[0m_reindex_non_unique\u001b[0m\u001b[0;34m(\u001b[0m\u001b[0mkeyarr\u001b[0m\u001b[0;34m)\u001b[0m\u001b[0;34m\u001b[0m\u001b[0;34m\u001b[0m\u001b[0m\n\u001b[1;32m   6069\u001b[0m \u001b[0;34m\u001b[0m\u001b[0m\n\u001b[0;32m-> 6070\u001b[0;31m         \u001b[0mself\u001b[0m\u001b[0;34m.\u001b[0m\u001b[0m_raise_if_missing\u001b[0m\u001b[0;34m(\u001b[0m\u001b[0mkeyarr\u001b[0m\u001b[0;34m,\u001b[0m \u001b[0mindexer\u001b[0m\u001b[0;34m,\u001b[0m \u001b[0maxis_name\u001b[0m\u001b[0;34m)\u001b[0m\u001b[0;34m\u001b[0m\u001b[0;34m\u001b[0m\u001b[0m\n\u001b[0m\u001b[1;32m   6071\u001b[0m \u001b[0;34m\u001b[0m\u001b[0m\n\u001b[1;32m   6072\u001b[0m         \u001b[0mkeyarr\u001b[0m \u001b[0;34m=\u001b[0m \u001b[0mself\u001b[0m\u001b[0;34m.\u001b[0m\u001b[0mtake\u001b[0m\u001b[0;34m(\u001b[0m\u001b[0mindexer\u001b[0m\u001b[0;34m)\u001b[0m\u001b[0;34m\u001b[0m\u001b[0;34m\u001b[0m\u001b[0m\n",
            "\u001b[0;32m/usr/local/lib/python3.10/dist-packages/pandas/core/indexes/base.py\u001b[0m in \u001b[0;36m_raise_if_missing\u001b[0;34m(self, key, indexer, axis_name)\u001b[0m\n\u001b[1;32m   6128\u001b[0m                 \u001b[0;32mif\u001b[0m \u001b[0muse_interval_msg\u001b[0m\u001b[0;34m:\u001b[0m\u001b[0;34m\u001b[0m\u001b[0;34m\u001b[0m\u001b[0m\n\u001b[1;32m   6129\u001b[0m                     \u001b[0mkey\u001b[0m \u001b[0;34m=\u001b[0m \u001b[0mlist\u001b[0m\u001b[0;34m(\u001b[0m\u001b[0mkey\u001b[0m\u001b[0;34m)\u001b[0m\u001b[0;34m\u001b[0m\u001b[0;34m\u001b[0m\u001b[0m\n\u001b[0;32m-> 6130\u001b[0;31m                 \u001b[0;32mraise\u001b[0m \u001b[0mKeyError\u001b[0m\u001b[0;34m(\u001b[0m\u001b[0;34mf\"None of [{key}] are in the [{axis_name}]\"\u001b[0m\u001b[0;34m)\u001b[0m\u001b[0;34m\u001b[0m\u001b[0;34m\u001b[0m\u001b[0m\n\u001b[0m\u001b[1;32m   6131\u001b[0m \u001b[0;34m\u001b[0m\u001b[0m\n\u001b[1;32m   6132\u001b[0m             \u001b[0mnot_found\u001b[0m \u001b[0;34m=\u001b[0m \u001b[0mlist\u001b[0m\u001b[0;34m(\u001b[0m\u001b[0mensure_index\u001b[0m\u001b[0;34m(\u001b[0m\u001b[0mkey\u001b[0m\u001b[0;34m)\u001b[0m\u001b[0;34m[\u001b[0m\u001b[0mmissing_mask\u001b[0m\u001b[0;34m.\u001b[0m\u001b[0mnonzero\u001b[0m\u001b[0;34m(\u001b[0m\u001b[0;34m)\u001b[0m\u001b[0;34m[\u001b[0m\u001b[0;36m0\u001b[0m\u001b[0;34m]\u001b[0m\u001b[0;34m]\u001b[0m\u001b[0;34m.\u001b[0m\u001b[0munique\u001b[0m\u001b[0;34m(\u001b[0m\u001b[0;34m)\u001b[0m\u001b[0;34m)\u001b[0m\u001b[0;34m\u001b[0m\u001b[0;34m\u001b[0m\u001b[0m\n",
            "\u001b[0;31mKeyError\u001b[0m: \"None of [Index(['temperature', 'humidity', 'CO2CosIRValue', 'CO2MG811Value', 'MOX1',\\n       'MOX2', 'MOX3', 'MOX4', 'COValue'],\\n      dtype='object')] are in the [columns]\""
          ]
        }
      ]
    },
    {
      "cell_type": "code",
      "source": [
        "df_bathroom[['temperature', 'humidity', 'CO2CosIRValue', 'CO2MG811Value', 'MOX1', 'MOX2', 'MOX3', 'MOX4',  'COValue']].describe()"
      ],
      "metadata": {
        "colab": {
          "base_uri": "https://localhost:8080/",
          "height": 300
        },
        "id": "fhItQ1ppi2wf",
        "outputId": "553ab12c-fa88-47f9-d08f-47fcc6adf664"
      },
      "execution_count": null,
      "outputs": [
        {
          "output_type": "execute_result",
          "data": {
            "text/plain": [
              "        temperature      humidity  CO2CosIRValue  CO2MG811Value          MOX1  \\\n",
              "count  35232.000000  35232.000000   35232.000000   35232.000000  35232.000000   \n",
              "mean      21.213265     52.845063     124.421463     520.936024    475.440537   \n",
              "std        2.131712      5.084628      48.827819      31.888112     43.532697   \n",
              "min       14.450000     39.570000      41.000000     469.000000    308.000000   \n",
              "25%       19.850000     48.870000      96.000000     500.000000    449.000000   \n",
              "50%       21.130000     52.100000     107.000000     507.000000    477.000000   \n",
              "75%       22.920000     55.780000     130.000000     528.000000    500.000000   \n",
              "max       26.500000     65.490000     289.000000     628.000000    608.000000   \n",
              "\n",
              "               MOX2          MOX3          MOX4       COValue  \n",
              "count  35232.000000  35232.000000  35232.000000  35232.000000  \n",
              "mean     686.498552    644.034173    570.955722    127.112852  \n",
              "std       40.333910     43.809027     50.545762     37.253895  \n",
              "min      563.000000    511.000000    415.000000     72.000000  \n",
              "25%      664.000000    620.000000    543.000000    100.000000  \n",
              "50%      691.000000    648.000000    575.000000    117.000000  \n",
              "75%      714.000000    673.000000    605.000000    145.000000  \n",
              "max      788.000000    755.000000    702.000000    280.000000  "
            ],
            "text/html": [
              "\n",
              "  <div id=\"df-550110fb-699d-4dae-9cbe-574dbd710df9\" class=\"colab-df-container\">\n",
              "    <div>\n",
              "<style scoped>\n",
              "    .dataframe tbody tr th:only-of-type {\n",
              "        vertical-align: middle;\n",
              "    }\n",
              "\n",
              "    .dataframe tbody tr th {\n",
              "        vertical-align: top;\n",
              "    }\n",
              "\n",
              "    .dataframe thead th {\n",
              "        text-align: right;\n",
              "    }\n",
              "</style>\n",
              "<table border=\"1\" class=\"dataframe\">\n",
              "  <thead>\n",
              "    <tr style=\"text-align: right;\">\n",
              "      <th></th>\n",
              "      <th>temperature</th>\n",
              "      <th>humidity</th>\n",
              "      <th>CO2CosIRValue</th>\n",
              "      <th>CO2MG811Value</th>\n",
              "      <th>MOX1</th>\n",
              "      <th>MOX2</th>\n",
              "      <th>MOX3</th>\n",
              "      <th>MOX4</th>\n",
              "      <th>COValue</th>\n",
              "    </tr>\n",
              "  </thead>\n",
              "  <tbody>\n",
              "    <tr>\n",
              "      <th>count</th>\n",
              "      <td>35232.000000</td>\n",
              "      <td>35232.000000</td>\n",
              "      <td>35232.000000</td>\n",
              "      <td>35232.000000</td>\n",
              "      <td>35232.000000</td>\n",
              "      <td>35232.000000</td>\n",
              "      <td>35232.000000</td>\n",
              "      <td>35232.000000</td>\n",
              "      <td>35232.000000</td>\n",
              "    </tr>\n",
              "    <tr>\n",
              "      <th>mean</th>\n",
              "      <td>21.213265</td>\n",
              "      <td>52.845063</td>\n",
              "      <td>124.421463</td>\n",
              "      <td>520.936024</td>\n",
              "      <td>475.440537</td>\n",
              "      <td>686.498552</td>\n",
              "      <td>644.034173</td>\n",
              "      <td>570.955722</td>\n",
              "      <td>127.112852</td>\n",
              "    </tr>\n",
              "    <tr>\n",
              "      <th>std</th>\n",
              "      <td>2.131712</td>\n",
              "      <td>5.084628</td>\n",
              "      <td>48.827819</td>\n",
              "      <td>31.888112</td>\n",
              "      <td>43.532697</td>\n",
              "      <td>40.333910</td>\n",
              "      <td>43.809027</td>\n",
              "      <td>50.545762</td>\n",
              "      <td>37.253895</td>\n",
              "    </tr>\n",
              "    <tr>\n",
              "      <th>min</th>\n",
              "      <td>14.450000</td>\n",
              "      <td>39.570000</td>\n",
              "      <td>41.000000</td>\n",
              "      <td>469.000000</td>\n",
              "      <td>308.000000</td>\n",
              "      <td>563.000000</td>\n",
              "      <td>511.000000</td>\n",
              "      <td>415.000000</td>\n",
              "      <td>72.000000</td>\n",
              "    </tr>\n",
              "    <tr>\n",
              "      <th>25%</th>\n",
              "      <td>19.850000</td>\n",
              "      <td>48.870000</td>\n",
              "      <td>96.000000</td>\n",
              "      <td>500.000000</td>\n",
              "      <td>449.000000</td>\n",
              "      <td>664.000000</td>\n",
              "      <td>620.000000</td>\n",
              "      <td>543.000000</td>\n",
              "      <td>100.000000</td>\n",
              "    </tr>\n",
              "    <tr>\n",
              "      <th>50%</th>\n",
              "      <td>21.130000</td>\n",
              "      <td>52.100000</td>\n",
              "      <td>107.000000</td>\n",
              "      <td>507.000000</td>\n",
              "      <td>477.000000</td>\n",
              "      <td>691.000000</td>\n",
              "      <td>648.000000</td>\n",
              "      <td>575.000000</td>\n",
              "      <td>117.000000</td>\n",
              "    </tr>\n",
              "    <tr>\n",
              "      <th>75%</th>\n",
              "      <td>22.920000</td>\n",
              "      <td>55.780000</td>\n",
              "      <td>130.000000</td>\n",
              "      <td>528.000000</td>\n",
              "      <td>500.000000</td>\n",
              "      <td>714.000000</td>\n",
              "      <td>673.000000</td>\n",
              "      <td>605.000000</td>\n",
              "      <td>145.000000</td>\n",
              "    </tr>\n",
              "    <tr>\n",
              "      <th>max</th>\n",
              "      <td>26.500000</td>\n",
              "      <td>65.490000</td>\n",
              "      <td>289.000000</td>\n",
              "      <td>628.000000</td>\n",
              "      <td>608.000000</td>\n",
              "      <td>788.000000</td>\n",
              "      <td>755.000000</td>\n",
              "      <td>702.000000</td>\n",
              "      <td>280.000000</td>\n",
              "    </tr>\n",
              "  </tbody>\n",
              "</table>\n",
              "</div>\n",
              "    <div class=\"colab-df-buttons\">\n",
              "\n",
              "  <div class=\"colab-df-container\">\n",
              "    <button class=\"colab-df-convert\" onclick=\"convertToInteractive('df-550110fb-699d-4dae-9cbe-574dbd710df9')\"\n",
              "            title=\"Convert this dataframe to an interactive table.\"\n",
              "            style=\"display:none;\">\n",
              "\n",
              "  <svg xmlns=\"http://www.w3.org/2000/svg\" height=\"24px\" viewBox=\"0 -960 960 960\">\n",
              "    <path d=\"M120-120v-720h720v720H120Zm60-500h600v-160H180v160Zm220 220h160v-160H400v160Zm0 220h160v-160H400v160ZM180-400h160v-160H180v160Zm440 0h160v-160H620v160ZM180-180h160v-160H180v160Zm440 0h160v-160H620v160Z\"/>\n",
              "  </svg>\n",
              "    </button>\n",
              "\n",
              "  <style>\n",
              "    .colab-df-container {\n",
              "      display:flex;\n",
              "      gap: 12px;\n",
              "    }\n",
              "\n",
              "    .colab-df-convert {\n",
              "      background-color: #E8F0FE;\n",
              "      border: none;\n",
              "      border-radius: 50%;\n",
              "      cursor: pointer;\n",
              "      display: none;\n",
              "      fill: #1967D2;\n",
              "      height: 32px;\n",
              "      padding: 0 0 0 0;\n",
              "      width: 32px;\n",
              "    }\n",
              "\n",
              "    .colab-df-convert:hover {\n",
              "      background-color: #E2EBFA;\n",
              "      box-shadow: 0px 1px 2px rgba(60, 64, 67, 0.3), 0px 1px 3px 1px rgba(60, 64, 67, 0.15);\n",
              "      fill: #174EA6;\n",
              "    }\n",
              "\n",
              "    .colab-df-buttons div {\n",
              "      margin-bottom: 4px;\n",
              "    }\n",
              "\n",
              "    [theme=dark] .colab-df-convert {\n",
              "      background-color: #3B4455;\n",
              "      fill: #D2E3FC;\n",
              "    }\n",
              "\n",
              "    [theme=dark] .colab-df-convert:hover {\n",
              "      background-color: #434B5C;\n",
              "      box-shadow: 0px 1px 3px 1px rgba(0, 0, 0, 0.15);\n",
              "      filter: drop-shadow(0px 1px 2px rgba(0, 0, 0, 0.3));\n",
              "      fill: #FFFFFF;\n",
              "    }\n",
              "  </style>\n",
              "\n",
              "    <script>\n",
              "      const buttonEl =\n",
              "        document.querySelector('#df-550110fb-699d-4dae-9cbe-574dbd710df9 button.colab-df-convert');\n",
              "      buttonEl.style.display =\n",
              "        google.colab.kernel.accessAllowed ? 'block' : 'none';\n",
              "\n",
              "      async function convertToInteractive(key) {\n",
              "        const element = document.querySelector('#df-550110fb-699d-4dae-9cbe-574dbd710df9');\n",
              "        const dataTable =\n",
              "          await google.colab.kernel.invokeFunction('convertToInteractive',\n",
              "                                                    [key], {});\n",
              "        if (!dataTable) return;\n",
              "\n",
              "        const docLinkHtml = 'Like what you see? Visit the ' +\n",
              "          '<a target=\"_blank\" href=https://colab.research.google.com/notebooks/data_table.ipynb>data table notebook</a>'\n",
              "          + ' to learn more about interactive tables.';\n",
              "        element.innerHTML = '';\n",
              "        dataTable['output_type'] = 'display_data';\n",
              "        await google.colab.output.renderOutput(dataTable, element);\n",
              "        const docLink = document.createElement('div');\n",
              "        docLink.innerHTML = docLinkHtml;\n",
              "        element.appendChild(docLink);\n",
              "      }\n",
              "    </script>\n",
              "  </div>\n",
              "\n",
              "\n",
              "<div id=\"df-0d4d95d9-8cd8-4529-b930-bc8882539ef8\">\n",
              "  <button class=\"colab-df-quickchart\" onclick=\"quickchart('df-0d4d95d9-8cd8-4529-b930-bc8882539ef8')\"\n",
              "            title=\"Suggest charts\"\n",
              "            style=\"display:none;\">\n",
              "\n",
              "<svg xmlns=\"http://www.w3.org/2000/svg\" height=\"24px\"viewBox=\"0 0 24 24\"\n",
              "     width=\"24px\">\n",
              "    <g>\n",
              "        <path d=\"M19 3H5c-1.1 0-2 .9-2 2v14c0 1.1.9 2 2 2h14c1.1 0 2-.9 2-2V5c0-1.1-.9-2-2-2zM9 17H7v-7h2v7zm4 0h-2V7h2v10zm4 0h-2v-4h2v4z\"/>\n",
              "    </g>\n",
              "</svg>\n",
              "  </button>\n",
              "\n",
              "<style>\n",
              "  .colab-df-quickchart {\n",
              "      --bg-color: #E8F0FE;\n",
              "      --fill-color: #1967D2;\n",
              "      --hover-bg-color: #E2EBFA;\n",
              "      --hover-fill-color: #174EA6;\n",
              "      --disabled-fill-color: #AAA;\n",
              "      --disabled-bg-color: #DDD;\n",
              "  }\n",
              "\n",
              "  [theme=dark] .colab-df-quickchart {\n",
              "      --bg-color: #3B4455;\n",
              "      --fill-color: #D2E3FC;\n",
              "      --hover-bg-color: #434B5C;\n",
              "      --hover-fill-color: #FFFFFF;\n",
              "      --disabled-bg-color: #3B4455;\n",
              "      --disabled-fill-color: #666;\n",
              "  }\n",
              "\n",
              "  .colab-df-quickchart {\n",
              "    background-color: var(--bg-color);\n",
              "    border: none;\n",
              "    border-radius: 50%;\n",
              "    cursor: pointer;\n",
              "    display: none;\n",
              "    fill: var(--fill-color);\n",
              "    height: 32px;\n",
              "    padding: 0;\n",
              "    width: 32px;\n",
              "  }\n",
              "\n",
              "  .colab-df-quickchart:hover {\n",
              "    background-color: var(--hover-bg-color);\n",
              "    box-shadow: 0 1px 2px rgba(60, 64, 67, 0.3), 0 1px 3px 1px rgba(60, 64, 67, 0.15);\n",
              "    fill: var(--button-hover-fill-color);\n",
              "  }\n",
              "\n",
              "  .colab-df-quickchart-complete:disabled,\n",
              "  .colab-df-quickchart-complete:disabled:hover {\n",
              "    background-color: var(--disabled-bg-color);\n",
              "    fill: var(--disabled-fill-color);\n",
              "    box-shadow: none;\n",
              "  }\n",
              "\n",
              "  .colab-df-spinner {\n",
              "    border: 2px solid var(--fill-color);\n",
              "    border-color: transparent;\n",
              "    border-bottom-color: var(--fill-color);\n",
              "    animation:\n",
              "      spin 1s steps(1) infinite;\n",
              "  }\n",
              "\n",
              "  @keyframes spin {\n",
              "    0% {\n",
              "      border-color: transparent;\n",
              "      border-bottom-color: var(--fill-color);\n",
              "      border-left-color: var(--fill-color);\n",
              "    }\n",
              "    20% {\n",
              "      border-color: transparent;\n",
              "      border-left-color: var(--fill-color);\n",
              "      border-top-color: var(--fill-color);\n",
              "    }\n",
              "    30% {\n",
              "      border-color: transparent;\n",
              "      border-left-color: var(--fill-color);\n",
              "      border-top-color: var(--fill-color);\n",
              "      border-right-color: var(--fill-color);\n",
              "    }\n",
              "    40% {\n",
              "      border-color: transparent;\n",
              "      border-right-color: var(--fill-color);\n",
              "      border-top-color: var(--fill-color);\n",
              "    }\n",
              "    60% {\n",
              "      border-color: transparent;\n",
              "      border-right-color: var(--fill-color);\n",
              "    }\n",
              "    80% {\n",
              "      border-color: transparent;\n",
              "      border-right-color: var(--fill-color);\n",
              "      border-bottom-color: var(--fill-color);\n",
              "    }\n",
              "    90% {\n",
              "      border-color: transparent;\n",
              "      border-bottom-color: var(--fill-color);\n",
              "    }\n",
              "  }\n",
              "</style>\n",
              "\n",
              "  <script>\n",
              "    async function quickchart(key) {\n",
              "      const quickchartButtonEl =\n",
              "        document.querySelector('#' + key + ' button');\n",
              "      quickchartButtonEl.disabled = true;  // To prevent multiple clicks.\n",
              "      quickchartButtonEl.classList.add('colab-df-spinner');\n",
              "      try {\n",
              "        const charts = await google.colab.kernel.invokeFunction(\n",
              "            'suggestCharts', [key], {});\n",
              "      } catch (error) {\n",
              "        console.error('Error during call to suggestCharts:', error);\n",
              "      }\n",
              "      quickchartButtonEl.classList.remove('colab-df-spinner');\n",
              "      quickchartButtonEl.classList.add('colab-df-quickchart-complete');\n",
              "    }\n",
              "    (() => {\n",
              "      let quickchartButtonEl =\n",
              "        document.querySelector('#df-0d4d95d9-8cd8-4529-b930-bc8882539ef8 button');\n",
              "      quickchartButtonEl.style.display =\n",
              "        google.colab.kernel.accessAllowed ? 'block' : 'none';\n",
              "    })();\n",
              "  </script>\n",
              "</div>\n",
              "    </div>\n",
              "  </div>\n"
            ]
          },
          "metadata": {},
          "execution_count": 11
        }
      ]
    },
    {
      "cell_type": "code",
      "source": [
        "# Impostazioni opzionali per migliorare l'aspetto dei grafici\n",
        "sns.set(style=\"whitegrid\")"
      ],
      "metadata": {
        "id": "mU9pHU-7hihB"
      },
      "execution_count": null,
      "outputs": []
    },
    {
      "cell_type": "code",
      "source": [
        "plt.figure(figsize=(12, 6))\n",
        "plt.subplot(1, 2, 1)\n",
        "sns.histplot(df_living['temperature'], bins=30, kde=True, color='skyblue')\n",
        "plt.title('Distribuzione della Temperatura')\n",
        "\n",
        "plt.subplot(1, 2, 2)\n",
        "sns.histplot(df_living['COValue'], bins=30, kde=True, color='green')\n",
        "plt.title('Distribuzione del COValue')\n",
        "\n",
        "plt.tight_layout()\n",
        "plt.show()"
      ],
      "metadata": {
        "colab": {
          "base_uri": "https://localhost:8080/",
          "height": 601
        },
        "id": "4WGEVPzBhkII",
        "outputId": "c5e30ad9-1719-4b6e-e586-02b9643d8da6"
      },
      "execution_count": null,
      "outputs": [
        {
          "output_type": "display_data",
          "data": {
            "text/plain": [
              "<Figure size 1200x600 with 2 Axes>"
            ],
            "image/png": "[encoded data removed]"
          },
          "metadata": {}
        }
      ]
    },
    {
      "cell_type": "code",
      "source": [
        "plt.figure(figsize=(12, 6))\n",
        "plt.subplot(1, 2, 1)\n",
        "sns.histplot(df_bedroom['temperature'], bins=30, kde=True, color='skyblue')\n",
        "plt.title('Distribuzione della Temperatura')\n",
        "\n",
        "plt.subplot(1, 2, 2)\n",
        "sns.histplot(df_bedroom['COValue'], bins=30, kde=True, color='green')\n",
        "plt.title('Distribuzione del COValue')\n",
        "\n",
        "plt.tight_layout()\n",
        "plt.show()"
      ],
      "metadata": {
        "colab": {
          "base_uri": "https://localhost:8080/",
          "height": 601
        },
        "id": "Oy0gZGpRiiPV",
        "outputId": "64b4e80c-84fb-4af6-da22-adf5bef55365"
      },
      "execution_count": null,
      "outputs": [
        {
          "output_type": "display_data",
          "data": {
            "text/plain": [
              "<Figure size 1200x600 with 2 Axes>"
            ],
            "image/png": "[encoded data removed]"
          },
          "metadata": {}
        }
      ]
    },
    {
      "cell_type": "code",
      "source": [
        "plt.figure(figsize=(12, 6))\n",
        "plt.subplot(1, 2, 1)\n",
        "sns.histplot(df_bathroom['temperature'], bins=30, kde=True, color='skyblue')\n",
        "plt.title('Distribuzione della Temperatura')\n",
        "\n",
        "plt.subplot(1, 2, 2)\n",
        "sns.histplot(df_bathroom['COValue'], bins=30, kde=True, color='green')\n",
        "plt.title('Distribuzione del COValue')\n",
        "\n",
        "plt.tight_layout()\n",
        "plt.show()"
      ],
      "metadata": {
        "colab": {
          "base_uri": "https://localhost:8080/",
          "height": 601
        },
        "id": "1g0udQ5Fiii1",
        "outputId": "e67d668d-15c1-4b37-af96-b39b98d2ba26"
      },
      "execution_count": null,
      "outputs": [
        {
          "output_type": "display_data",
          "data": {
            "text/plain": [
              "<Figure size 1200x600 with 2 Axes>"
            ],
            "image/png": "[encoded data removed]"
          },
          "metadata": {}
        }
      ]
    },
    {
      "cell_type": "markdown",
      "source": [
        "# Preprocessing"
      ],
      "metadata": {
        "id": "MPRJ6So-lA8v"
      }
    },
    {
      "cell_type": "markdown",
      "source": [
        "## Labels preparation"
      ],
      "metadata": {
        "id": "Sut-d7xwlCoX"
      }
    },
    {
      "cell_type": "code",
      "source": [
        "# df_train.head()\n",
        "# df_train['MOX4'].describe()\n",
        "\n",
        "# #Generate the inputs and labels for each row example\n",
        "# df_labels = df_train[['Living room', 'Bedroom', 'Bathroom', 'Kitchen', 'Hallway']]\n",
        "\n",
        "# labels = []\n",
        "# for index, row in df_train.iterrows():\n",
        "#       # print(row.values.tolist())\n",
        "#       row_input = row[['temperature', 'humidity', 'CO2CosIRValue', 'CO2MG811Value', 'MOX1', 'MOX2', 'MOX3', 'MOX4',  'COValue']].values.tolist()\n",
        "#       row_labels = row[['Living room', 'Bedroom', 'Bathroom', 'Kitchen', 'Hallway']].values.tolist()\n",
        "#       print(row_input)\n",
        "#       print(row_labels)\n",
        "#       # lab = row.values.tolist()\n",
        "#       # labels.append(lab)\n",
        "#       break"
      ],
      "metadata": {
        "id": "iVoYCFmEmXrp"
      },
      "execution_count": 76,
      "outputs": []
    },
    {
      "cell_type": "code",
      "source": [
        "df_trial_lstm = df_train.copy()"
      ],
      "metadata": {
        "id": "MZfaW1BopNrF"
      },
      "execution_count": 77,
      "outputs": []
    },
    {
      "cell_type": "code",
      "source": [
        "df_trial_lstm[['timestamp_in_seconds']] = df_trial_lstm[['timestamp_in_seconds']] / df_trial_lstm[['timestamp_in_seconds']].max()\n",
        "# df_original[['timestamp_in_seconds']] = df_original[['timestamp_in_seconds']] / df_original[['timestamp_in_seconds']].max()"
      ],
      "metadata": {
        "id": "h1aY49RdCN3k"
      },
      "execution_count": 78,
      "outputs": []
    },
    {
      "cell_type": "code",
      "source": [
        "# df_trial_lstm = df_trial_lstm.astype('float64')"
      ],
      "metadata": {
        "id": "MqTrD_Exv2hT"
      },
      "execution_count": 79,
      "outputs": []
    },
    {
      "cell_type": "code",
      "source": [
        "# Applica lo scaler alle colonne selezionate\n",
        "# df_trial_lstm[features] = scaler.fit_transform(df_trial_lstm[features])\n"
      ],
      "metadata": {
        "id": "P7B1krWWpBQe"
      },
      "execution_count": 80,
      "outputs": []
    },
    {
      "cell_type": "code",
      "source": [
        "# df_trial_lstm  = df_trial_lstm.reset_index(drop=True)\n",
        "\n",
        "df_trial_lstm\n"
      ],
      "metadata": {
        "id": "atbQaTtNnrFS",
        "colab": {
          "base_uri": "https://localhost:8080/",
          "height": 0
        },
        "outputId": "78667b7e-81d3-4dd7-d04f-e08df21b884b"
      },
      "execution_count": 81,
      "outputs": [
        {
          "output_type": "execute_result",
          "data": {
            "text/plain": [
              "        Unnamed: 0  Living room  Bedroom  Bathroom  Kitchen  Hallway  \\\n",
              "0                0            0        0         0        0        0   \n",
              "1                1            0        0         0        0        0   \n",
              "2                2            1        0         0        0        0   \n",
              "3                3            1        0         0        0        0   \n",
              "4                4            1        0         0        0        0   \n",
              "...            ...          ...      ...       ...      ...      ...   \n",
              "265682      304563            0        0         0        0        0   \n",
              "265683      304564            0        0         0        0        0   \n",
              "265684      304565            0        0         0        0        0   \n",
              "265685      304566            0        0         0        0        0   \n",
              "265686      304567            0        0         0        0        0   \n",
              "\n",
              "        timestamp_in_seconds  var_CO2CosIRValue  var_CO2MG811Value  var_MOX1  \\\n",
              "0                   0.000081           0.000000           0.000000  0.000000   \n",
              "1                   0.000313          -0.018349           0.003766  0.010225   \n",
              "2                   0.000544           0.000000          -0.005629 -0.006073   \n",
              "3                   0.000775          -0.009346           0.003774 -0.004073   \n",
              "4                   0.001007          -0.028302           0.000000  0.002045   \n",
              "...                      ...                ...                ...       ...   \n",
              "265682              0.160916           0.000000           0.001890  0.004556   \n",
              "265683              0.161148           0.019608          -0.001887  0.000000   \n",
              "265684              0.161379          -0.028846           0.000000  0.004535   \n",
              "265685              0.161611           0.000000           0.000000 -0.004515   \n",
              "265686              0.161842          -0.009901          -0.001890 -0.002268   \n",
              "\n",
              "         varMOX2  var_MOX3  var_MOX4  var_COValue  var_temperature  \\\n",
              "0       0.000000  0.000000  0.000000     0.000000         0.000000   \n",
              "1       0.002837 -0.001517  0.005000     0.000000        -0.003293   \n",
              "2       0.001414 -0.003040 -0.011609    -0.008197        -0.003775   \n",
              "3       0.002825  0.000000  0.001678     0.041322         0.000474   \n",
              "4      -0.007042  0.003049  0.000000     0.031746        -0.002841   \n",
              "...          ...       ...       ...          ...              ...   \n",
              "265682 -0.002882  0.001538  0.001718     0.000000         0.001817   \n",
              "265683  0.002890  0.000000  0.000000     0.000000        -0.005442   \n",
              "265684  0.000000  0.000000  0.001715     0.009259         0.007296   \n",
              "265685  0.000000  0.000000  0.001712    -0.009174        -0.002263   \n",
              "265686  0.000000  0.000000 -0.001709     0.009259        -0.003176   \n",
              "\n",
              "        var_humidity  mapped_date  \n",
              "0           0.000000            1  \n",
              "1           0.005023            1  \n",
              "2          -0.008616            1  \n",
              "3           0.007127            1  \n",
              "4           0.004142            1  \n",
              "...              ...          ...  \n",
              "265682      0.003636           72  \n",
              "265683     -0.001268           72  \n",
              "265684     -0.000181           72  \n",
              "265685      0.001814           72  \n",
              "265686      0.000000           72  \n",
              "\n",
              "[265687 rows x 17 columns]"
            ],
            "text/html": [
              "\n",
              "  <div id=\"df-b3bf6a6c-adbc-4d9b-9f6c-0bea87869e9b\" class=\"colab-df-container\">\n",
              "    <div>\n",
              "<style scoped>\n",
              "    .dataframe tbody tr th:only-of-type {\n",
              "        vertical-align: middle;\n",
              "    }\n",
              "\n",
              "    .dataframe tbody tr th {\n",
              "        vertical-align: top;\n",
              "    }\n",
              "\n",
              "    .dataframe thead th {\n",
              "        text-align: right;\n",
              "    }\n",
              "</style>\n",
              "<table border=\"1\" class=\"dataframe\">\n",
              "  <thead>\n",
              "    <tr style=\"text-align: right;\">\n",
              "      <th></th>\n",
              "      <th>Unnamed: 0</th>\n",
              "      <th>Living room</th>\n",
              "      <th>Bedroom</th>\n",
              "      <th>Bathroom</th>\n",
              "      <th>Kitchen</th>\n",
              "      <th>Hallway</th>\n",
              "      <th>timestamp_in_seconds</th>\n",
              "      <th>var_CO2CosIRValue</th>\n",
              "      <th>var_CO2MG811Value</th>\n",
              "      <th>var_MOX1</th>\n",
              "      <th>varMOX2</th>\n",
              "      <th>var_MOX3</th>\n",
              "      <th>var_MOX4</th>\n",
              "      <th>var_COValue</th>\n",
              "      <th>var_temperature</th>\n",
              "      <th>var_humidity</th>\n",
              "      <th>mapped_date</th>\n",
              "    </tr>\n",
              "  </thead>\n",
              "  <tbody>\n",
              "    <tr>\n",
              "      <th>0</th>\n",
              "      <td>0</td>\n",
              "      <td>0</td>\n",
              "      <td>0</td>\n",
              "      <td>0</td>\n",
              "      <td>0</td>\n",
              "      <td>0</td>\n",
              "      <td>0.000081</td>\n",
              "      <td>0.000000</td>\n",
              "      <td>0.000000</td>\n",
              "      <td>0.000000</td>\n",
              "      <td>0.000000</td>\n",
              "      <td>0.000000</td>\n",
              "      <td>0.000000</td>\n",
              "      <td>0.000000</td>\n",
              "      <td>0.000000</td>\n",
              "      <td>0.000000</td>\n",
              "      <td>1</td>\n",
              "    </tr>\n",
              "    <tr>\n",
              "      <th>1</th>\n",
              "      <td>1</td>\n",
              "      <td>0</td>\n",
              "      <td>0</td>\n",
              "      <td>0</td>\n",
              "      <td>0</td>\n",
              "      <td>0</td>\n",
              "      <td>0.000313</td>\n",
              "      <td>-0.018349</td>\n",
              "      <td>0.003766</td>\n",
              "      <td>0.010225</td>\n",
              "      <td>0.002837</td>\n",
              "      <td>-0.001517</td>\n",
              "      <td>0.005000</td>\n",
              "      <td>0.000000</td>\n",
              "      <td>-0.003293</td>\n",
              "      <td>0.005023</td>\n",
              "      <td>1</td>\n",
              "    </tr>\n",
              "    <tr>\n",
              "      <th>2</th>\n",
              "      <td>2</td>\n",
              "      <td>1</td>\n",
              "      <td>0</td>\n",
              "      <td>0</td>\n",
              "      <td>0</td>\n",
              "      <td>0</td>\n",
              "      <td>0.000544</td>\n",
              "      <td>0.000000</td>\n",
              "      <td>-0.005629</td>\n",
              "      <td>-0.006073</td>\n",
              "      <td>0.001414</td>\n",
              "      <td>-0.003040</td>\n",
              "      <td>-0.011609</td>\n",
              "      <td>-0.008197</td>\n",
              "      <td>-0.003775</td>\n",
              "      <td>-0.008616</td>\n",
              "      <td>1</td>\n",
              "    </tr>\n",
              "    <tr>\n",
              "      <th>3</th>\n",
              "      <td>3</td>\n",
              "      <td>1</td>\n",
              "      <td>0</td>\n",
              "      <td>0</td>\n",
              "      <td>0</td>\n",
              "      <td>0</td>\n",
              "      <td>0.000775</td>\n",
              "      <td>-0.009346</td>\n",
              "      <td>0.003774</td>\n",
              "      <td>-0.004073</td>\n",
              "      <td>0.002825</td>\n",
              "      <td>0.000000</td>\n",
              "      <td>0.001678</td>\n",
              "      <td>0.041322</td>\n",
              "      <td>0.000474</td>\n",
              "      <td>0.007127</td>\n",
              "      <td>1</td>\n",
              "    </tr>\n",
              "    <tr>\n",
              "      <th>4</th>\n",
              "      <td>4</td>\n",
              "      <td>1</td>\n",
              "      <td>0</td>\n",
              "      <td>0</td>\n",
              "      <td>0</td>\n",
              "      <td>0</td>\n",
              "      <td>0.001007</td>\n",
              "      <td>-0.028302</td>\n",
              "      <td>0.000000</td>\n",
              "      <td>0.002045</td>\n",
              "      <td>-0.007042</td>\n",
              "      <td>0.003049</td>\n",
              "      <td>0.000000</td>\n",
              "      <td>0.031746</td>\n",
              "      <td>-0.002841</td>\n",
              "      <td>0.004142</td>\n",
              "      <td>1</td>\n",
              "    </tr>\n",
              "    <tr>\n",
              "      <th>...</th>\n",
              "      <td>...</td>\n",
              "      <td>...</td>\n",
              "      <td>...</td>\n",
              "      <td>...</td>\n",
              "      <td>...</td>\n",
              "      <td>...</td>\n",
              "      <td>...</td>\n",
              "      <td>...</td>\n",
              "      <td>...</td>\n",
              "      <td>...</td>\n",
              "      <td>...</td>\n",
              "      <td>...</td>\n",
              "      <td>...</td>\n",
              "      <td>...</td>\n",
              "      <td>...</td>\n",
              "      <td>...</td>\n",
              "      <td>...</td>\n",
              "    </tr>\n",
              "    <tr>\n",
              "      <th>265682</th>\n",
              "      <td>304563</td>\n",
              "      <td>0</td>\n",
              "      <td>0</td>\n",
              "      <td>0</td>\n",
              "      <td>0</td>\n",
              "      <td>0</td>\n",
              "      <td>0.160916</td>\n",
              "      <td>0.000000</td>\n",
              "      <td>0.001890</td>\n",
              "      <td>0.004556</td>\n",
              "      <td>-0.002882</td>\n",
              "      <td>0.001538</td>\n",
              "      <td>0.001718</td>\n",
              "      <td>0.000000</td>\n",
              "      <td>0.001817</td>\n",
              "      <td>0.003636</td>\n",
              "      <td>72</td>\n",
              "    </tr>\n",
              "    <tr>\n",
              "      <th>265683</th>\n",
              "      <td>304564</td>\n",
              "      <td>0</td>\n",
              "      <td>0</td>\n",
              "      <td>0</td>\n",
              "      <td>0</td>\n",
              "      <td>0</td>\n",
              "      <td>0.161148</td>\n",
              "      <td>0.019608</td>\n",
              "      <td>-0.001887</td>\n",
              "      <td>0.000000</td>\n",
              "      <td>0.002890</td>\n",
              "      <td>0.000000</td>\n",
              "      <td>0.000000</td>\n",
              "      <td>0.000000</td>\n",
              "      <td>-0.005442</td>\n",
              "      <td>-0.001268</td>\n",
              "      <td>72</td>\n",
              "    </tr>\n",
              "    <tr>\n",
              "      <th>265684</th>\n",
              "      <td>304565</td>\n",
              "      <td>0</td>\n",
              "      <td>0</td>\n",
              "      <td>0</td>\n",
              "      <td>0</td>\n",
              "      <td>0</td>\n",
              "      <td>0.161379</td>\n",
              "      <td>-0.028846</td>\n",
              "      <td>0.000000</td>\n",
              "      <td>0.004535</td>\n",
              "      <td>0.000000</td>\n",
              "      <td>0.000000</td>\n",
              "      <td>0.001715</td>\n",
              "      <td>0.009259</td>\n",
              "      <td>0.007296</td>\n",
              "      <td>-0.000181</td>\n",
              "      <td>72</td>\n",
              "    </tr>\n",
              "    <tr>\n",
              "      <th>265685</th>\n",
              "      <td>304566</td>\n",
              "      <td>0</td>\n",
              "      <td>0</td>\n",
              "      <td>0</td>\n",
              "      <td>0</td>\n",
              "      <td>0</td>\n",
              "      <td>0.161611</td>\n",
              "      <td>0.000000</td>\n",
              "      <td>0.000000</td>\n",
              "      <td>-0.004515</td>\n",
              "      <td>0.000000</td>\n",
              "      <td>0.000000</td>\n",
              "      <td>0.001712</td>\n",
              "      <td>-0.009174</td>\n",
              "      <td>-0.002263</td>\n",
              "      <td>0.001814</td>\n",
              "      <td>72</td>\n",
              "    </tr>\n",
              "    <tr>\n",
              "      <th>265686</th>\n",
              "      <td>304567</td>\n",
              "      <td>0</td>\n",
              "      <td>0</td>\n",
              "      <td>0</td>\n",
              "      <td>0</td>\n",
              "      <td>0</td>\n",
              "      <td>0.161842</td>\n",
              "      <td>-0.009901</td>\n",
              "      <td>-0.001890</td>\n",
              "      <td>-0.002268</td>\n",
              "      <td>0.000000</td>\n",
              "      <td>0.000000</td>\n",
              "      <td>-0.001709</td>\n",
              "      <td>0.009259</td>\n",
              "      <td>-0.003176</td>\n",
              "      <td>0.000000</td>\n",
              "      <td>72</td>\n",
              "    </tr>\n",
              "  </tbody>\n",
              "</table>\n",
              "<p>265687 rows × 17 columns</p>\n",
              "</div>\n",
              "    <div class=\"colab-df-buttons\">\n",
              "\n",
              "  <div class=\"colab-df-container\">\n",
              "    <button class=\"colab-df-convert\" onclick=\"convertToInteractive('df-b3bf6a6c-adbc-4d9b-9f6c-0bea87869e9b')\"\n",
              "            title=\"Convert this dataframe to an interactive table.\"\n",
              "            style=\"display:none;\">\n",
              "\n",
              "  <svg xmlns=\"http://www.w3.org/2000/svg\" height=\"24px\" viewBox=\"0 -960 960 960\">\n",
              "    <path d=\"M120-120v-720h720v720H120Zm60-500h600v-160H180v160Zm220 220h160v-160H400v160Zm0 220h160v-160H400v160ZM180-400h160v-160H180v160Zm440 0h160v-160H620v160ZM180-180h160v-160H180v160Zm440 0h160v-160H620v160Z\"/>\n",
              "  </svg>\n",
              "    </button>\n",
              "\n",
              "  <style>\n",
              "    .colab-df-container {\n",
              "      display:flex;\n",
              "      gap: 12px;\n",
              "    }\n",
              "\n",
              "    .colab-df-convert {\n",
              "      background-color: #E8F0FE;\n",
              "      border: none;\n",
              "      border-radius: 50%;\n",
              "      cursor: pointer;\n",
              "      display: none;\n",
              "      fill: #1967D2;\n",
              "      height: 32px;\n",
              "      padding: 0 0 0 0;\n",
              "      width: 32px;\n",
              "    }\n",
              "\n",
              "    .colab-df-convert:hover {\n",
              "      background-color: #E2EBFA;\n",
              "      box-shadow: 0px 1px 2px rgba(60, 64, 67, 0.3), 0px 1px 3px 1px rgba(60, 64, 67, 0.15);\n",
              "      fill: #174EA6;\n",
              "    }\n",
              "\n",
              "    .colab-df-buttons div {\n",
              "      margin-bottom: 4px;\n",
              "    }\n",
              "\n",
              "    [theme=dark] .colab-df-convert {\n",
              "      background-color: #3B4455;\n",
              "      fill: #D2E3FC;\n",
              "    }\n",
              "\n",
              "    [theme=dark] .colab-df-convert:hover {\n",
              "      background-color: #434B5C;\n",
              "      box-shadow: 0px 1px 3px 1px rgba(0, 0, 0, 0.15);\n",
              "      filter: drop-shadow(0px 1px 2px rgba(0, 0, 0, 0.3));\n",
              "      fill: #FFFFFF;\n",
              "    }\n",
              "  </style>\n",
              "\n",
              "    <script>\n",
              "      const buttonEl =\n",
              "        document.querySelector('#df-b3bf6a6c-adbc-4d9b-9f6c-0bea87869e9b button.colab-df-convert');\n",
              "      buttonEl.style.display =\n",
              "        google.colab.kernel.accessAllowed ? 'block' : 'none';\n",
              "\n",
              "      async function convertToInteractive(key) {\n",
              "        const element = document.querySelector('#df-b3bf6a6c-adbc-4d9b-9f6c-0bea87869e9b');\n",
              "        const dataTable =\n",
              "          await google.colab.kernel.invokeFunction('convertToInteractive',\n",
              "                                                    [key], {});\n",
              "        if (!dataTable) return;\n",
              "\n",
              "        const docLinkHtml = 'Like what you see? Visit the ' +\n",
              "          '<a target=\"_blank\" href=https://colab.research.google.com/notebooks/data_table.ipynb>data table notebook</a>'\n",
              "          + ' to learn more about interactive tables.';\n",
              "        element.innerHTML = '';\n",
              "        dataTable['output_type'] = 'display_data';\n",
              "        await google.colab.output.renderOutput(dataTable, element);\n",
              "        const docLink = document.createElement('div');\n",
              "        docLink.innerHTML = docLinkHtml;\n",
              "        element.appendChild(docLink);\n",
              "      }\n",
              "    </script>\n",
              "  </div>\n",
              "\n",
              "\n",
              "<div id=\"df-0a9ed190-316e-4589-8fea-06f1e522836a\">\n",
              "  <button class=\"colab-df-quickchart\" onclick=\"quickchart('df-0a9ed190-316e-4589-8fea-06f1e522836a')\"\n",
              "            title=\"Suggest charts\"\n",
              "            style=\"display:none;\">\n",
              "\n",
              "<svg xmlns=\"http://www.w3.org/2000/svg\" height=\"24px\"viewBox=\"0 0 24 24\"\n",
              "     width=\"24px\">\n",
              "    <g>\n",
              "        <path d=\"M19 3H5c-1.1 0-2 .9-2 2v14c0 1.1.9 2 2 2h14c1.1 0 2-.9 2-2V5c0-1.1-.9-2-2-2zM9 17H7v-7h2v7zm4 0h-2V7h2v10zm4 0h-2v-4h2v4z\"/>\n",
              "    </g>\n",
              "</svg>\n",
              "  </button>\n",
              "\n",
              "<style>\n",
              "  .colab-df-quickchart {\n",
              "      --bg-color: #E8F0FE;\n",
              "      --fill-color: #1967D2;\n",
              "      --hover-bg-color: #E2EBFA;\n",
              "      --hover-fill-color: #174EA6;\n",
              "      --disabled-fill-color: #AAA;\n",
              "      --disabled-bg-color: #DDD;\n",
              "  }\n",
              "\n",
              "  [theme=dark] .colab-df-quickchart {\n",
              "      --bg-color: #3B4455;\n",
              "      --fill-color: #D2E3FC;\n",
              "      --hover-bg-color: #434B5C;\n",
              "      --hover-fill-color: #FFFFFF;\n",
              "      --disabled-bg-color: #3B4455;\n",
              "      --disabled-fill-color: #666;\n",
              "  }\n",
              "\n",
              "  .colab-df-quickchart {\n",
              "    background-color: var(--bg-color);\n",
              "    border: none;\n",
              "    border-radius: 50%;\n",
              "    cursor: pointer;\n",
              "    display: none;\n",
              "    fill: var(--fill-color);\n",
              "    height: 32px;\n",
              "    padding: 0;\n",
              "    width: 32px;\n",
              "  }\n",
              "\n",
              "  .colab-df-quickchart:hover {\n",
              "    background-color: var(--hover-bg-color);\n",
              "    box-shadow: 0 1px 2px rgba(60, 64, 67, 0.3), 0 1px 3px 1px rgba(60, 64, 67, 0.15);\n",
              "    fill: var(--button-hover-fill-color);\n",
              "  }\n",
              "\n",
              "  .colab-df-quickchart-complete:disabled,\n",
              "  .colab-df-quickchart-complete:disabled:hover {\n",
              "    background-color: var(--disabled-bg-color);\n",
              "    fill: var(--disabled-fill-color);\n",
              "    box-shadow: none;\n",
              "  }\n",
              "\n",
              "  .colab-df-spinner {\n",
              "    border: 2px solid var(--fill-color);\n",
              "    border-color: transparent;\n",
              "    border-bottom-color: var(--fill-color);\n",
              "    animation:\n",
              "      spin 1s steps(1) infinite;\n",
              "  }\n",
              "\n",
              "  @keyframes spin {\n",
              "    0% {\n",
              "      border-color: transparent;\n",
              "      border-bottom-color: var(--fill-color);\n",
              "      border-left-color: var(--fill-color);\n",
              "    }\n",
              "    20% {\n",
              "      border-color: transparent;\n",
              "      border-left-color: var(--fill-color);\n",
              "      border-top-color: var(--fill-color);\n",
              "    }\n",
              "    30% {\n",
              "      border-color: transparent;\n",
              "      border-left-color: var(--fill-color);\n",
              "      border-top-color: var(--fill-color);\n",
              "      border-right-color: var(--fill-color);\n",
              "    }\n",
              "    40% {\n",
              "      border-color: transparent;\n",
              "      border-right-color: var(--fill-color);\n",
              "      border-top-color: var(--fill-color);\n",
              "    }\n",
              "    60% {\n",
              "      border-color: transparent;\n",
              "      border-right-color: var(--fill-color);\n",
              "    }\n",
              "    80% {\n",
              "      border-color: transparent;\n",
              "      border-right-color: var(--fill-color);\n",
              "      border-bottom-color: var(--fill-color);\n",
              "    }\n",
              "    90% {\n",
              "      border-color: transparent;\n",
              "      border-bottom-color: var(--fill-color);\n",
              "    }\n",
              "  }\n",
              "</style>\n",
              "\n",
              "  <script>\n",
              "    async function quickchart(key) {\n",
              "      const quickchartButtonEl =\n",
              "        document.querySelector('#' + key + ' button');\n",
              "      quickchartButtonEl.disabled = true;  // To prevent multiple clicks.\n",
              "      quickchartButtonEl.classList.add('colab-df-spinner');\n",
              "      try {\n",
              "        const charts = await google.colab.kernel.invokeFunction(\n",
              "            'suggestCharts', [key], {});\n",
              "      } catch (error) {\n",
              "        console.error('Error during call to suggestCharts:', error);\n",
              "      }\n",
              "      quickchartButtonEl.classList.remove('colab-df-spinner');\n",
              "      quickchartButtonEl.classList.add('colab-df-quickchart-complete');\n",
              "    }\n",
              "    (() => {\n",
              "      let quickchartButtonEl =\n",
              "        document.querySelector('#df-0a9ed190-316e-4589-8fea-06f1e522836a button');\n",
              "      quickchartButtonEl.style.display =\n",
              "        google.colab.kernel.accessAllowed ? 'block' : 'none';\n",
              "    })();\n",
              "  </script>\n",
              "</div>\n",
              "    </div>\n",
              "  </div>\n"
            ]
          },
          "metadata": {},
          "execution_count": 81
        }
      ]
    },
    {
      "cell_type": "code",
      "source": [
        "# import numpy as np\n",
        "\n",
        "# def create_sequences(df, n_steps):\n",
        "#     X, y = [], []\n",
        "#     for i in tqdm(range(1, len(df)-1), total = len(df)):\n",
        "#         end_ix = i + n_steps - 1\n",
        "#         if end_ix > len(df)-1:\n",
        "#             break\n",
        "#         # raccogli input e output\n",
        "#         seq_x, seq_y = df.loc[i:end_ix, features].values.tolist(), df.loc[i:end_ix, labels_col].values.tolist()\n",
        "#         # print(seq_x)\n",
        "#         # print(seq_y)\n",
        "#         X.append(seq_x)\n",
        "#         y.append(seq_y)\n",
        "#     return torch.tensor(np.array(X)), torch.tensor(np.array(y))\n",
        "\n",
        "# # Numero di timesteps per sequenza\n",
        "# n_steps = 20\n",
        "\n",
        "# # Crea sequenze\n",
        "# X, y = create_sequences(df_train.iloc[:100000], n_steps)\n"
      ],
      "metadata": {
        "id": "pH_AqF-I2odT"
      },
      "execution_count": 82,
      "outputs": []
    },
    {
      "cell_type": "code",
      "source": [
        "def create_sequences(df, n_steps):\n",
        "    X, y = [], []\n",
        "    # for i in tqdm(range(1,len(df) - 20)):\n",
        "    for i in tqdm(range(100000 - n_steps)):\n",
        "        seq_y = [a for a in df_original.loc[i:i+n_steps-1, labels_col].values.tolist()]\n",
        "        right_y = df_original.loc[i+n_steps, labels_col].values.tolist()\n",
        "\n",
        "        X.append(seq_y)\n",
        "        y.append(right_y)\n",
        "\n",
        "    return X, y\n",
        "\n",
        "# Numero di timesteps per sequenza\n",
        "n_steps = 20\n",
        "\n",
        "# Crea sequenze\n",
        "X, y = create_sequences(df_trial_lstm, n_steps)\n"
      ],
      "metadata": {
        "colab": {
          "base_uri": "https://localhost:8080/"
        },
        "id": "t519Kzd7ejsD",
        "outputId": "204fb266-0186-4062-8134-2ee006b54bfd"
      },
      "execution_count": 83,
      "outputs": [
        {
          "output_type": "stream",
          "name": "stderr",
          "text": [
            "100%|██████████| 99980/99980 [03:40<00:00, 453.19it/s]\n"
          ]
        }
      ]
    },
    {
      "cell_type": "code",
      "source": [
        "X = torch.tensor(X)\n",
        "y = torch.tensor(y)"
      ],
      "metadata": {
        "id": "mm9vppFQfjrC"
      },
      "execution_count": 84,
      "outputs": []
    },
    {
      "cell_type": "code",
      "source": [
        "print(X.shape)\n",
        "print(y.shape)"
      ],
      "metadata": {
        "colab": {
          "base_uri": "https://localhost:8080/"
        },
        "id": "LOwByCnHfsZi",
        "outputId": "4d68daa6-adeb-45c6-cf62-f09cda0c7bfe"
      },
      "execution_count": 85,
      "outputs": [
        {
          "output_type": "stream",
          "name": "stdout",
          "text": [
            "torch.Size([99980, 20, 5])\n",
            "torch.Size([99980, 5])\n"
          ]
        }
      ]
    },
    {
      "cell_type": "code",
      "source": [
        "# def create_sequences(df, n_steps):\n",
        "#     X, y = [], []\n",
        "#     # for i in tqdm(range(1,len(df) - 20)):\n",
        "#     for i in tqdm(range(10000)):\n",
        "#         # end_ix = i + n_steps - 1\n",
        "#         start_ix = i - n_steps + 1\n",
        "\n",
        "#         if start_ix < 1:\n",
        "#           continue\n",
        "\n",
        "\n",
        "#         # raccogli input e output\n",
        "#         seq_x, seq_y = df_original.loc[start_ix:i, features].values.tolist(), df_original.loc[i, labels_col].values.tolist()\n",
        "#         # seq_x, seq_y = df_original.loc[i:end_ix, features].values, df.loc[end_ix, labels_col].values\n",
        "#         # seq_x, seq_y = df.loc[i:end_ix, features].values, df.loc[end_ix, labels_col].values\n",
        "#         # print(seq_y)\n",
        "#         seq_x = torch.tensor(seq_x)\n",
        "#         seq_y = torch.tensor(seq_y)\n",
        "\n",
        "#         X.append(seq_x)\n",
        "#         y.append(seq_y)\n",
        "\n",
        "#     # print(X.shape)\n",
        "#     # print(y.shape)\n",
        "#     return torch.stack(X), torch.stack(y)\n",
        "\n",
        "# # Numero di timesteps per sequenza\n",
        "# n_steps = 20\n",
        "\n",
        "# # Crea sequenze\n",
        "# X, y = create_sequences(df_trial_lstm.iloc[0:50000], n_steps)\n"
      ],
      "metadata": {
        "id": "6Mc8CZ37kjKn"
      },
      "execution_count": 86,
      "outputs": []
    },
    {
      "cell_type": "code",
      "source": [
        "# def create_sequences(df):\n",
        "#     X, y = [], []\n",
        "#     for i in tqdm(range(1,len(df))):\n",
        "#         seq_x, seq_y = df_original.loc[i, features].values, df_original.loc[i, labels_col].values\n",
        "#         # print(seq_x)\n",
        "#         # print(seq_y)\n",
        "#         seq_x = torch.tensor(seq_x)\n",
        "#         seq_y = torch.tensor(seq_y)\n",
        "\n",
        "#         X.append(seq_x)\n",
        "#         y.append(seq_y)\n",
        "\n",
        "#     # print(X.shape)\n",
        "#     # print(y.shape)\n",
        "#     return torch.stack(X), torch.stack(y)\n",
        "\n",
        "# # Numero di timesteps per sequenza\n",
        "# n_steps = 20\n",
        "\n",
        "# # Crea sequenze\n",
        "# X, y = create_sequences(df_train.iloc[:10000])\n"
      ],
      "metadata": {
        "id": "mceYcfOxdCXe"
      },
      "execution_count": 87,
      "outputs": []
    },
    {
      "cell_type": "code",
      "source": [
        "print(X.shape)\n",
        "print(y.shape)"
      ],
      "metadata": {
        "colab": {
          "base_uri": "https://localhost:8080/"
        },
        "id": "4a17TS1Jo3Tu",
        "outputId": "ea56a9c3-eb4f-47ef-cad8-c79cdd207a6a"
      },
      "execution_count": 88,
      "outputs": [
        {
          "output_type": "stream",
          "name": "stdout",
          "text": [
            "torch.Size([99980, 20, 5])\n",
            "torch.Size([99980, 5])\n"
          ]
        }
      ]
    },
    {
      "cell_type": "code",
      "source": [
        "train_index = int(X.shape[0] * 0.8)"
      ],
      "metadata": {
        "id": "amJ8fj86gkql"
      },
      "execution_count": 89,
      "outputs": []
    },
    {
      "cell_type": "code",
      "source": [
        "train_index"
      ],
      "metadata": {
        "colab": {
          "base_uri": "https://localhost:8080/"
        },
        "id": "uR8YywaLgstZ",
        "outputId": "6c2e0744-feca-4195-80e2-4f9ddee855c6"
      },
      "execution_count": 90,
      "outputs": [
        {
          "output_type": "execute_result",
          "data": {
            "text/plain": [
              "79984"
            ]
          },
          "metadata": {},
          "execution_count": 90
        }
      ]
    },
    {
      "cell_type": "code",
      "source": [
        "# # Divisione in set di addestramento e test\n",
        "X_train, X_val, y_train, y_val = X[0:train_index], X[train_index:], y[0:train_index], y[train_index:]\n",
        "X_train, X_val, y_train, y_val = X[0:train_index], X[train_index:], y[0:train_index], y[train_index:]\n"
      ],
      "metadata": {
        "id": "wPZAmY07AAZE"
      },
      "execution_count": 91,
      "outputs": []
    },
    {
      "cell_type": "code",
      "source": [
        "print(X_train.shape)\n",
        "print(X_val.shape)"
      ],
      "metadata": {
        "colab": {
          "base_uri": "https://localhost:8080/"
        },
        "id": "7_kI7WiHgzVn",
        "outputId": "df2418c8-bf7a-4d26-f7f5-409c671e2f1e"
      },
      "execution_count": 92,
      "outputs": [
        {
          "output_type": "stream",
          "name": "stdout",
          "text": [
            "torch.Size([79984, 20, 5])\n",
            "torch.Size([19996, 20, 5])\n"
          ]
        }
      ]
    },
    {
      "cell_type": "code",
      "source": [
        "# # Divisione in set di addestramento e test\n",
        "# X_train, X_val, y_train, y_val = train_test_split(X, y, test_size=0.2, shuffle=False)\n"
      ],
      "metadata": {
        "id": "hDUqQzv3T2Mo"
      },
      "execution_count": 93,
      "outputs": []
    },
    {
      "cell_type": "markdown",
      "source": [
        "# Hyperparameters"
      ],
      "metadata": {
        "id": "8t1dMxBDWDXM"
      }
    },
    {
      "cell_type": "code",
      "source": [
        "#hyperparameters\n",
        "class hypers:\n",
        "    save_model = False\n",
        "    save_model_path = ''\n",
        "\n",
        "    load_model = True\n",
        "    load_model_path = ''\n",
        "\n",
        "    input_size = 5\n",
        "    hidden_size = 64\n",
        "    num_layers = 2\n",
        "    num_classes = 5\n",
        "\n",
        "    dropout_rate = 0.2\n",
        "\n",
        "    learning_rate = 1e-3\n",
        "\n",
        "    epochs = 50\n",
        "    batch_size = 64\n",
        "    print_step = 100\n",
        "    device = 'cuda' if torch.cuda.is_available() else 'cpu'"
      ],
      "metadata": {
        "id": "elO4Su-LWDXT"
      },
      "execution_count": 94,
      "outputs": []
    },
    {
      "cell_type": "markdown",
      "source": [
        "# Dataset"
      ],
      "metadata": {
        "id": "ZM5ymx4Uk46g"
      }
    },
    {
      "cell_type": "code",
      "source": [
        "class HomeDataset(Dataset):\n",
        "  def __init__(self,\n",
        "               X, Y):\n",
        "    self.X = X\n",
        "    self.Y = Y\n",
        "\n",
        "  def __len__(self):\n",
        "    return len(self.X)\n",
        "\n",
        "\n",
        "  def __getitem__(self,index):\n",
        "    x = self.X[index]\n",
        "    y = self.Y[index]\n",
        "\n",
        "    return x, y"
      ],
      "metadata": {
        "id": "EgW3L6UPL7_S"
      },
      "execution_count": 95,
      "outputs": []
    },
    {
      "cell_type": "markdown",
      "source": [
        "# Models"
      ],
      "metadata": {
        "id": "Ebzm0J0xkyvT"
      }
    },
    {
      "cell_type": "markdown",
      "source": [
        "## Baseline"
      ],
      "metadata": {
        "id": "6hxbAw-kk07W"
      }
    },
    {
      "cell_type": "code",
      "source": [
        "import torch\n",
        "import torch.nn as nn\n",
        "import torch.nn.functional as F\n",
        "\n",
        "class MultiLabelNN(nn.Module):\n",
        "    def __init__(self, hypers):\n",
        "        super(MultiLabelNN, self).__init__()\n",
        "\n",
        "        self.lstm = nn.LSTM(input_size=hypers.input_size,\n",
        "                            hidden_size=hypers.hidden_size,\n",
        "                            num_layers=hypers.num_layers,\n",
        "                            dropout=hypers.dropout_rate,\n",
        "                            batch_first=True,\n",
        "                            bidirectional = False)\n",
        "\n",
        "        self.fc1 = nn.Linear(hypers.hidden_size, 64)\n",
        "        self.fc2 = nn.Linear(64, 32)\n",
        "        self.classifier = nn.Linear(32, hypers.num_classes)\n",
        "\n",
        "        self.dropout = torch.nn.Dropout(hypers.dropout_rate)\n",
        "        self.relu = nn.ReLU()\n",
        "\n",
        "\n",
        "    def forward(self, x, h0, c0):\n",
        "\n",
        "        output, (hn, cn) = self.lstm(x, (h0, c0)) #batch x 20 x 10\n",
        "        output = output[:,-1,:]\n",
        "\n",
        "        output = self.dropout(self.relu(self.fc1(output)))\n",
        "        output = self.dropout(self.relu(self.fc2(output)))\n",
        "\n",
        "        logits = self.classifier(output)\n",
        "        logits = torch.sigmoid(logits)\n",
        "\n",
        "        rets = {\n",
        "            'logits': logits,\n",
        "            'hidden': (h0, c0)\n",
        "        }\n",
        "        return rets"
      ],
      "metadata": {
        "id": "YHYZApesk3vH"
      },
      "execution_count": 96,
      "outputs": []
    },
    {
      "cell_type": "markdown",
      "source": [
        "## Other models"
      ],
      "metadata": {
        "id": "LJko8ephjice"
      }
    },
    {
      "cell_type": "code",
      "source": [
        "import torch\n",
        "import torch.nn as nn\n",
        "import torch.nn.functional as F\n",
        "\n",
        "class LSTMNN(nn.Module):\n",
        "    def __init__(self, hypers):\n",
        "        super(LSTMNN, self).__init__()\n",
        "\n",
        "        self.lstm = nn.LSTM(input_size=hypers.input_size,\n",
        "                            hidden_size=hypers.hidden_size,\n",
        "                            num_layers=hypers.num_layers,\n",
        "                            dropout=hypers.dropout_rate,\n",
        "                            batch_first=True,\n",
        "                            bidirectional = False)\n",
        "\n",
        "        self.fc1 = nn.Linear(hypers.input_size, 128)\n",
        "        self.fc2 = nn.Linear(128, 64)\n",
        "        self.classifier = nn.Linear(64, hypers.num_classes)\n",
        "\n",
        "        self.dropout = torch.nn.Dropout(hypers.dropout_rate)\n",
        "        self.relu = nn.ReLU()\n",
        "\n",
        "\n",
        "    def forward(self, x):\n",
        "        output, _ = self.lstm(x) #batch x 20 x 10\n",
        "        # output = self.dropout(self.relu(self.fc1(output)))\n",
        "        # output = self.dropout(self.relu(self.fc2(output)))\n",
        "        logits = self.classifier(output)\n",
        "        logits = torch.sigmoid(logits)\n",
        "        return logits"
      ],
      "metadata": {
        "id": "wnnkp_I1l4c2"
      },
      "execution_count": 97,
      "outputs": []
    },
    {
      "cell_type": "code",
      "source": [
        "import torch\n",
        "import torch.nn as nn\n",
        "import torch.nn.functional as F\n",
        "\n",
        "class MultiLayerNN(nn.Module):\n",
        "    def __init__(self, hypers):\n",
        "        super(MultiLayerNN, self).__init__()\n",
        "\n",
        "        self.fc1 = nn.Linear(hypers.input_size, 128)\n",
        "        self.fc2 = nn.Linear(128, 64)\n",
        "        self.classifier = nn.Linear(64, hypers.num_classes)\n",
        "\n",
        "        self.dropout = torch.nn.Dropout(hypers.dropout_rate)\n",
        "        self.relu = nn.ReLU()\n",
        "\n",
        "\n",
        "    def forward(self, x):\n",
        "        x = self.dropout(self.fc1(x))\n",
        "        x = self.dropout(self.fc2(x))\n",
        "        logits = self.classifier(x)\n",
        "        logits = torch.sigmoid(logits)\n",
        "        return logits"
      ],
      "metadata": {
        "id": "TSb5uNhkcRrd"
      },
      "execution_count": 98,
      "outputs": []
    },
    {
      "cell_type": "code",
      "source": [
        "import torch\n",
        "import torch.nn as nn\n",
        "import torch.nn.functional as F\n",
        "\n",
        "class ConvLayerNN(nn.Module):\n",
        "    def __init__(self, hypers):\n",
        "        super(ConvLayerNN, self).__init__()\n",
        "        self.conv1 = nn.Conv1d(in_channels=1, out_channels=16, kernel_size=3, stride=1, padding=1)\n",
        "        self.conv2 = nn.Conv1d(in_channels=16, out_channels=32, kernel_size=3, stride=1, padding=1)\n",
        "\n",
        "        self.fc1 = nn.Linear(320, 128)\n",
        "        self.fc2 = nn.Linear(128, 64)\n",
        "        self.classifier = nn.Linear(64, hypers.num_classes)\n",
        "\n",
        "        self.dropout = torch.nn.Dropout(hypers.dropout_rate)\n",
        "        self.relu = nn.ReLU()\n",
        "\n",
        "\n",
        "    def forward(self, x):\n",
        "        x = self.conv1(x)\n",
        "        x = self.conv2(x) # batch_size X 32 X 10\n",
        "\n",
        "        batch_size = x.shape[0]\n",
        "        x = x.reshape(batch_size, -1)\n",
        "\n",
        "        x = self.dropout(self.relu(self.fc1(x)))\n",
        "        x = self.dropout(self.relu(self.fc2(x)))\n",
        "\n",
        "        logits = self.classifier(x)\n",
        "        logits = torch.sigmoid(logits)\n",
        "        return logits"
      ],
      "metadata": {
        "id": "N4kDrMX7fyac"
      },
      "execution_count": 99,
      "outputs": []
    },
    {
      "cell_type": "code",
      "source": [
        "import torch\n",
        "import torch.nn as nn\n",
        "\n",
        "class SensorNet(nn.Module):\n",
        "    def __init__(self, num_features, seq_length):\n",
        "        super(SensorNet, self).__init__()\n",
        "        self.conv1 = nn.Conv1d(in_channels=num_features, out_channels=32, kernel_size=3, padding=1)\n",
        "        self.relu = nn.ReLU()\n",
        "        self.lstm = nn.LSTM(input_size=32, hidden_size=64, batch_first=True)\n",
        "        self.fc = nn.Linear(in_features=64, out_features=5)\n",
        "\n",
        "    def forward(self, x):\n",
        "        # x shape: [batch_size, seq_length, num_features]\n",
        "        # Conv1D expects [batch_size, in_channels, seq_length], so we permute\n",
        "        x = x.permute(0, 2, 1)\n",
        "        x = self.conv1(x)\n",
        "        x = self.relu(x)\n",
        "\n",
        "        # LSTM expects [batch_size, seq_length, features], so we permute back\n",
        "        x = x.permute(0, 2, 1)\n",
        "        _, (hn, _) = self.lstm(x)\n",
        "\n",
        "        # Use the last hidden state\n",
        "        x = hn.squeeze(0)\n",
        "\n",
        "        # Fully connected layer for multi-label classification\n",
        "        x = self.fc(x)\n",
        "        return torch.sigmoid(x)  # Apply sigmoid to output probabilities\n",
        "\n",
        "# Example initialization\n",
        "num_features = 10  # Number of sensor channels from 'timestamp' to 'COValue'\n",
        "seq_length = 20  # Length of the sequence\n",
        "model = SensorNet(num_features=num_features, seq_length=seq_length)\n"
      ],
      "metadata": {
        "id": "x0vahDw3o1HX"
      },
      "execution_count": 100,
      "outputs": []
    },
    {
      "cell_type": "code",
      "source": [
        "import torch\n",
        "import torch.nn as nn\n",
        "import torch.nn.functional as F\n",
        "\n",
        "class GRUModel(nn.Module):\n",
        "    def __init__(self, input_size, hidden_size, num_layers, num_classes):\n",
        "        super(GRUModel, self).__init__()\n",
        "        self.num_layers = num_layers\n",
        "        self.hidden_size = hidden_size\n",
        "        self.gru = nn.GRU(input_size, hidden_size, num_layers, batch_first=True)\n",
        "        self.fc = nn.Linear(hidden_size, num_classes)  # Output layer\n",
        "\n",
        "    def forward(self, x):\n",
        "        # Inizializza lo stato nascosto\n",
        "        h0 = torch.zeros(self.num_layers, x.size(0), self.hidden_size).to(x.device)\n",
        "\n",
        "        # Forward propagate GRU\n",
        "        out, _ = self.gru(x, h0)  # out: tensor of shape (batch_size, seq_length, hidden_size)\n",
        "\n",
        "        # Prendi solo l'ultimo stato nascosto\n",
        "        out = out[:, -1, :]\n",
        "\n",
        "        # Passa attraverso un fully connected layer\n",
        "        out = self.fc(out)\n",
        "\n",
        "        # Applica la sigmoid per ottenere output tra 0 e 1\n",
        "        out = torch.sigmoid(out)\n",
        "        return out\n"
      ],
      "metadata": {
        "id": "Ie8_lA5C1ALe"
      },
      "execution_count": 101,
      "outputs": []
    },
    {
      "cell_type": "markdown",
      "source": [
        "# Dataloader"
      ],
      "metadata": {
        "id": "2-9nprKQqeTo"
      }
    },
    {
      "cell_type": "markdown",
      "source": [
        "## Collate_fn"
      ],
      "metadata": {
        "id": "nHB9uG4gqtwL"
      }
    },
    {
      "cell_type": "code",
      "source": [
        "def collate_fn(data):\n",
        "  '''\n",
        "  Each sample in the batch has a List[str] corresponding to the original sentence,\n",
        "  a labels which is matrix that express the relations between subects and objects\n",
        "  '''\n",
        "\n",
        "  inputs = [d[0] for d in data]\n",
        "  labels = [d[1] for d in data]\n",
        "\n",
        "  rets = {\n",
        "      'inputs': torch.stack(inputs),\n",
        "      'labels': torch.stack(labels)\n",
        "  }\n",
        "\n",
        "  return rets"
      ],
      "metadata": {
        "id": "2K0XEYulMOSC"
      },
      "execution_count": 102,
      "outputs": []
    },
    {
      "cell_type": "markdown",
      "source": [
        "## Instantiate dataset and dataloader"
      ],
      "metadata": {
        "id": "snsDhySOqv2T"
      }
    },
    {
      "cell_type": "code",
      "source": [
        "homeDatasetTrain = HomeDataset(X_train, y_train)\n",
        "homeDatasetVal = HomeDataset(X_val, y_val)"
      ],
      "metadata": {
        "id": "pM3aDG7tqtbY"
      },
      "execution_count": 103,
      "outputs": []
    },
    {
      "cell_type": "code",
      "source": [
        "dataloaderTrain = DataLoader(\n",
        "    homeDatasetTrain,\n",
        "    batch_size=hypers.batch_size,\n",
        "    shuffle=False,\n",
        "    collate_fn=collate_fn\n",
        ")\n",
        "\n",
        "dataloaderVal = DataLoader(\n",
        "    homeDatasetVal,\n",
        "    batch_size=hypers.batch_size,\n",
        "    shuffle=False,\n",
        "    collate_fn=collate_fn\n",
        ")"
      ],
      "metadata": {
        "id": "Vf4Nd1TvqsAk"
      },
      "execution_count": 104,
      "outputs": []
    },
    {
      "cell_type": "code",
      "source": [
        "dataiter = iter(dataloaderTrain)\n",
        "batch = next(dataiter)"
      ],
      "metadata": {
        "id": "oDI5PyNAq9Lj"
      },
      "execution_count": 105,
      "outputs": []
    },
    {
      "cell_type": "code",
      "source": [
        "print(batch['inputs'].shape)\n",
        "print(batch['labels'].shape)"
      ],
      "metadata": {
        "colab": {
          "base_uri": "https://localhost:8080/"
        },
        "id": "2dEw5cl6Nqey",
        "outputId": "d0745a7e-1ac6-48c1-ec42-7ab99f8bb30d"
      },
      "execution_count": 106,
      "outputs": [
        {
          "output_type": "stream",
          "name": "stdout",
          "text": [
            "torch.Size([64, 20, 5])\n",
            "torch.Size([64, 5])\n"
          ]
        }
      ]
    },
    {
      "cell_type": "markdown",
      "source": [
        "# Model Init"
      ],
      "metadata": {
        "id": "MzG971BmOtrw"
      }
    },
    {
      "cell_type": "code",
      "source": [
        "model = MultiLabelNN(hypers).to(hypers.device)\n",
        "optimizer = torch.optim.Adam(model.parameters(), lr=hypers.learning_rate)\n",
        "loss_fn = torch.nn.BCELoss()"
      ],
      "metadata": {
        "id": "ONdjQns9OwvT"
      },
      "execution_count": 107,
      "outputs": []
    },
    {
      "cell_type": "markdown",
      "source": [
        "# validate"
      ],
      "metadata": {
        "id": "Kn33Vo1-uucf"
      }
    },
    {
      "cell_type": "code",
      "source": [
        "from sklearn.metrics import f1_score, accuracy_score\n",
        "\n",
        "def validate(model, dataloader):\n",
        "  h0 = torch.zeros(hypers.num_layers, hypers.batch_size, hypers.hidden_size).to(hypers.device)\n",
        "  c0 = torch.zeros(hypers.num_layers, hypers.batch_size, hypers.hidden_size).to(hypers.device)\n",
        "\n",
        "  model.eval()\n",
        "  bar_tqdm = tqdm(enumerate(dataloader), total = len(dataloader), position = 0, leave = True)\n",
        "  losses = []\n",
        "  all_pred = []\n",
        "  all_labels = []\n",
        "  for i, batch in bar_tqdm:\n",
        "\n",
        "    inputs = batch['inputs'].to(hypers.device).to(dtype=torch.float32)\n",
        "    labels = batch['labels'].to(hypers.device).to(dtype=torch.float32)\n",
        "\n",
        "    if h0.shape[0] != inputs.shape[0]:\n",
        "      h0 = torch.zeros(hypers.num_layers, inputs.shape[0], hypers.hidden_size).to(hypers.device)\n",
        "      c0 = torch.zeros(hypers.num_layers, inputs.shape[0], hypers.hidden_size).to(hypers.device)\n",
        "\n",
        "    with torch.no_grad():\n",
        "      outputs = model(inputs, h0, c0)\n",
        "      logits = outputs['logits']\n",
        "      h0, c0 = outputs['hidden']\n",
        "\n",
        "      loss = loss_fn(logits, labels)\n",
        "      losses.append(loss.item())\n",
        "\n",
        "      all_pred.append(torch.where(outputs['logits'] < 0.5, torch.tensor(0.0), torch.tensor(1.0)))\n",
        "      all_labels.append(labels)\n",
        "\n",
        "  la = torch.stack(all_labels[:-1]).cpu().numpy().flatten()\n",
        "  pr = torch.stack(all_pred[:-1]).cpu().numpy().flatten()\n",
        "\n",
        "  acc = accuracy_score(la, pr)\n",
        "  f1 = f1_score(la, pr)\n",
        "  print(f'validation_loss: {np.array(losses).mean()}, accuracy: {acc}, f1_score: {f1}')\n",
        "\n",
        "  rets = {\n",
        "      'loss': loss,\n",
        "      'acc': acc,\n",
        "      'f1': f1\n",
        "  }\n",
        "\n",
        "  return rets\n",
        ""
      ],
      "metadata": {
        "id": "a9l7TQXMuJPS"
      },
      "execution_count": 108,
      "outputs": []
    },
    {
      "cell_type": "markdown",
      "source": [
        "# Train"
      ],
      "metadata": {
        "id": "yvRZu8NpPlHY"
      }
    },
    {
      "cell_type": "code",
      "source": [
        "best_f1 = 0\n",
        "for epoch in range(hypers.epochs):\n",
        "  model.train()\n",
        "\n",
        "  h0 = torch.zeros(hypers.num_layers, hypers.batch_size, hypers.hidden_size).to(hypers.device)\n",
        "  c0 = torch.zeros(hypers.num_layers, hypers.batch_size, hypers.hidden_size).to(hypers.device)\n",
        "\n",
        "  bar_tqdm = tqdm(enumerate(dataloaderTrain), total = len(dataloaderTrain), position = 0, leave = True)\n",
        "  for i, batch in bar_tqdm:\n",
        "    optimizer.zero_grad()\n",
        "\n",
        "    inputs = batch['inputs'].to(hypers.device).to(dtype=torch.float32)\n",
        "    labels = batch['labels'].to(hypers.device).to(dtype=torch.float32)\n",
        "\n",
        "    if h0.shape[0] != inputs.shape[0]:\n",
        "      h0 = torch.zeros(hypers.num_layers, inputs.shape[0], hypers.hidden_size).to(hypers.device)\n",
        "      c0 = torch.zeros(hypers.num_layers, inputs.shape[0], hypers.hidden_size).to(hypers.device)\n",
        "\n",
        "\n",
        "    outputs = model(inputs, h0, c0)\n",
        "    logits = outputs['logits']\n",
        "    h0, c0 = outputs['hidden']\n",
        "\n",
        "    loss = loss_fn(logits, labels)\n",
        "    loss.backward()\n",
        "    optimizer.step()\n",
        "\n",
        "\n",
        "\n",
        "    bar_tqdm.set_postfix({'loss': loss.item()})\n",
        "  retVal = validate(model, dataloaderVal)\n",
        "\n",
        "  if retVal['f1'] > best_f1:\n",
        "    print('best f1 found')\n",
        "    best_f1 = retVal['f1']\n",
        "    save_path = f'/content/baseline_2.pth'\n",
        "    torch.save(model.state_dict(), save_path)\n",
        "\n"
      ],
      "metadata": {
        "id": "gConnq6FPteo"
      },
      "execution_count": null,
      "outputs": []
    },
    {
      "cell_type": "code",
      "source": [
        "from google.colab import drive\n",
        "drive.mount('/content/drive/')"
      ],
      "metadata": {
        "colab": {
          "base_uri": "https://localhost:8080/"
        },
        "id": "kPaRmC-FzS2N",
        "outputId": "97b6cc48-9cec-489e-be7c-b62ef37ff465"
      },
      "execution_count": 42,
      "outputs": [
        {
          "output_type": "stream",
          "name": "stdout",
          "text": [
            "Mounted at /content/drive/\n"
          ]
        }
      ]
    },
    {
      "cell_type": "code",
      "source": [
        "# save_path = f'/content/drive/MyDrive/AI/Hackathon/baseline_2.pth'\n",
        "# # torch.save(model.state_dict(), save_path)\n",
        "# model.load_state_dict(save_path)"
      ],
      "metadata": {
        "id": "2hygOJARzOLj"
      },
      "execution_count": null,
      "outputs": []
    },
    {
      "cell_type": "code",
      "source": [
        "pretrained_weights = torch.load('/content/drive/MyDrive/AI/Hackathon/baseline_2.pth', map_location=torch.device(hypers.device))\n",
        "model.load_state_dict(pretrained_weights)"
      ],
      "metadata": {
        "colab": {
          "base_uri": "https://localhost:8080/"
        },
        "id": "9JbzT0ETQ9jN",
        "outputId": "27503a15-df25-405f-f7b3-58405c5e3ca4"
      },
      "execution_count": 43,
      "outputs": [
        {
          "output_type": "execute_result",
          "data": {
            "text/plain": [
              "<All keys matched successfully>"
            ]
          },
          "metadata": {},
          "execution_count": 43
        }
      ]
    },
    {
      "cell_type": "markdown",
      "source": [
        "# Test"
      ],
      "metadata": {
        "id": "kN6IWcySTLEc"
      }
    },
    {
      "cell_type": "code",
      "source": [
        "h0 = torch.zeros(hypers.num_layers, hypers.batch_size, hypers.hidden_size).to(hypers.device)\n",
        "c0 = torch.zeros(hypers.num_layers, hypers.batch_size, hypers.hidden_size).to(hypers.device)\n",
        "\n",
        "model.eval()\n",
        "bar_tqdm = tqdm(enumerate(dataloaderVal), total = len(dataloaderVal), position = 0, leave = True)\n",
        "losses = []\n",
        "all_pred = []\n",
        "all_labels = []\n",
        "prev_out = 0\n",
        "\n",
        "for i, batch in bar_tqdm:\n",
        "  inputs = batch['inputs'].to(hypers.device).to(dtype=torch.float32)\n",
        "  if i > 0:\n",
        "    inputs[:, -1, :] = prev_out[-1]\n",
        "\n",
        "  labels = batch['labels'].to(hypers.device).to(dtype=torch.float32)\n",
        "\n",
        "  if h0.shape[0] != inputs.shape[0]:\n",
        "    h0 = torch.zeros(hypers.num_layers, inputs.shape[0], hypers.hidden_size).to(hypers.device)\n",
        "    c0 = torch.zeros(hypers.num_layers, inputs.shape[0], hypers.hidden_size).to(hypers.device)\n",
        "\n",
        "  with torch.no_grad():\n",
        "    outputs = model(inputs, h0, c0)\n",
        "    logits = outputs['logits']\n",
        "    h0, c0 = outputs['hidden']\n",
        "\n",
        "    loss = loss_fn(logits, labels)\n",
        "    losses.append(loss.item())\n",
        "\n",
        "    all_pred.append(torch.where(outputs['logits'] < 0.5, torch.tensor(0.0), torch.tensor(1.0)))\n",
        "    all_labels.append(labels)\n",
        "\n",
        "    prev_out = torch.where(outputs['logits'] < 0.5, torch.tensor(0.0), torch.tensor(1.0))\n",
        "    break\n",
        "\n",
        "print(f'validation_loss: {np.array(losses).mean()}')"
      ],
      "metadata": {
        "colab": {
          "base_uri": "https://localhost:8080/"
        },
        "id": "8Lb4JS4bpJDm",
        "outputId": "a9471c3c-ec7e-4d95-b8f2-519e72ad13a8"
      },
      "execution_count": 44,
      "outputs": [
        {
          "output_type": "stream",
          "name": "stderr",
          "text": [
            "  0%|          | 0/313 [00:00<?, ?it/s]"
          ]
        },
        {
          "output_type": "stream",
          "name": "stdout",
          "text": [
            "validation_loss: 0.15726640820503235\n"
          ]
        },
        {
          "output_type": "stream",
          "name": "stderr",
          "text": [
            "\n"
          ]
        }
      ]
    },
    {
      "cell_type": "code",
      "source": [
        "homeDatasetTrain[-1][0]"
      ],
      "metadata": {
        "colab": {
          "base_uri": "https://localhost:8080/"
        },
        "id": "sLPtqUSFpX4w",
        "outputId": "e7d0e681-853c-43c7-fd82-f46d2b4eb826"
      },
      "execution_count": 116,
      "outputs": [
        {
          "output_type": "execute_result",
          "data": {
            "text/plain": [
              "tensor([[0, 0, 0, 0, 0],\n",
              "        [0, 0, 0, 1, 0],\n",
              "        [0, 0, 0, 0, 0],\n",
              "        [1, 0, 0, 0, 0],\n",
              "        [0, 0, 0, 0, 0],\n",
              "        [0, 0, 0, 0, 0],\n",
              "        [0, 0, 0, 0, 0],\n",
              "        [0, 0, 0, 0, 0],\n",
              "        [0, 0, 0, 0, 0],\n",
              "        [0, 0, 0, 0, 0],\n",
              "        [0, 0, 0, 0, 0],\n",
              "        [0, 0, 0, 0, 0],\n",
              "        [0, 0, 0, 0, 0],\n",
              "        [0, 0, 0, 0, 0],\n",
              "        [0, 0, 0, 0, 0],\n",
              "        [0, 0, 0, 0, 0],\n",
              "        [0, 0, 0, 0, 0],\n",
              "        [0, 0, 0, 0, 0],\n",
              "        [0, 0, 0, 0, 0],\n",
              "        [0, 0, 0, 0, 0]])"
            ]
          },
          "metadata": {},
          "execution_count": 116
        }
      ]
    },
    {
      "cell_type": "code",
      "source": [
        "new_inputs = []\n",
        "new_labels = []\n",
        "for i in range(len(homeDatasetVal)):\n",
        "  new_inputs.append(homeDatasetVal[i][0])\n",
        "  new_labels.append(homeDatasetVal[i][1])"
      ],
      "metadata": {
        "id": "Uw-Bd4dnpAp7"
      },
      "execution_count": 112,
      "outputs": []
    },
    {
      "cell_type": "code",
      "source": [
        "\n",
        "for i in range(len(homeDatasetVal[20:]))"
      ],
      "metadata": {
        "id": "9ol8eMMPqUb7"
      },
      "execution_count": null,
      "outputs": []
    },
    {
      "cell_type": "code",
      "source": [
        "\n",
        "h0 = torch.zeros(hypers.num_layers, 1, hypers.hidden_size).to(hypers.device)\n",
        "c0 = torch.zeros(hypers.num_layers, 1, hypers.hidden_size).to(hypers.device)\n",
        "\n",
        "\n",
        "for i in range(20):\n",
        "  shift = inputs[0,1:]\n",
        "  inputs[0,:19] = inputs[0,1:]\n",
        "  inputs[0,20] =  torch.where(outputs['logits'] < 0.5, torch.tensor(0.0), torch.tensor(1.0))[0]\n",
        "\n",
        "\n",
        "\n",
        "# for i in range(homeDatasetVal):\n",
        "#   if i < 20:\n",
        "#     inputs[:20] = inputs[1:]\n",
        "#     inputs[20] =  torch.where(outputs['logits'] < 0.5, torch.tensor(0.0), torch.tensor(1.0))\n",
        "# for i, batch in bar_tqdm:\n",
        "#   inputs = batch['inputs'].to(hypers.device).to(dtype=torch.float32)\n",
        "#   if i > 0:\n",
        "#     inputs[:, -1, :] = prev_out[-1]\n",
        "\n",
        "#   labels = batch['labels'].to(hypers.device).to(dtype=torch.float32)\n",
        "\n",
        "#   if h0.shape[0] != inputs.shape[0]:\n",
        "#     h0 = torch.zeros(hypers.num_layers, inputs.shape[0], hypers.hidden_size).to(hypers.device)\n",
        "#     c0 = torch.zeros(hypers.num_layers, inputs.shape[0], hypers.hidden_size).to(hypers.device)\n",
        "\n",
        "#   with torch.no_grad():\n",
        "#     outputs = model(inputs, h0, c0)\n",
        "#     logits = outputs['logits']\n",
        "#     h0, c0 = outputs['hidden']\n",
        "\n",
        "#     loss = loss_fn(logits, labels)\n",
        "#     losses.append(loss.item())\n",
        "\n",
        "#     all_pred.append(torch.where(outputs['logits'] < 0.5, torch.tensor(0.0), torch.tensor(1.0)))\n",
        "#     all_labels.append(labels)\n",
        "\n",
        "#     prev_out = torch.where(outputs['logits'] < 0.5, torch.tensor(0.0), torch.tensor(1.0))\n",
        "#     break\n",
        "\n",
        "# print(f'validation_loss: {np.array(losses).mean()}')"
      ],
      "metadata": {
        "colab": {
          "base_uri": "https://localhost:8080/",
          "height": 262
        },
        "id": "dICwQveza5y0",
        "outputId": "76a0226b-f0b3-4354-8682-106530d73465"
      },
      "execution_count": 67,
      "outputs": [
        {
          "output_type": "stream",
          "name": "stdout",
          "text": [
            "torch.Size([1, 20, 5])\n"
          ]
        },
        {
          "output_type": "error",
          "ename": "RuntimeError",
          "evalue": "unsupported operation: some elements of the input tensor and the written-to tensor refer to a single memory location. Please clone() the tensor before performing the operation.",
          "traceback": [
            "\u001b[0;31m---------------------------------------------------------------------------\u001b[0m",
            "\u001b[0;31mRuntimeError\u001b[0m                              Traceback (most recent call last)",
            "\u001b[0;32m<ipython-input-67-280a2bae2f2f>\u001b[0m in \u001b[0;36m<cell line: 22>\u001b[0;34m()\u001b[0m\n\u001b[1;32m     22\u001b[0m \u001b[0;32mfor\u001b[0m \u001b[0mi\u001b[0m \u001b[0;32min\u001b[0m \u001b[0mrange\u001b[0m\u001b[0;34m(\u001b[0m\u001b[0;36m20\u001b[0m\u001b[0;34m)\u001b[0m\u001b[0;34m:\u001b[0m\u001b[0;34m\u001b[0m\u001b[0;34m\u001b[0m\u001b[0m\n\u001b[1;32m     23\u001b[0m   \u001b[0mshift\u001b[0m \u001b[0;34m=\u001b[0m \u001b[0minputs\u001b[0m\u001b[0;34m[\u001b[0m\u001b[0;36m0\u001b[0m\u001b[0;34m,\u001b[0m\u001b[0;36m1\u001b[0m\u001b[0;34m:\u001b[0m\u001b[0;34m]\u001b[0m\u001b[0;34m\u001b[0m\u001b[0;34m\u001b[0m\u001b[0m\n\u001b[0;32m---> 24\u001b[0;31m   \u001b[0minputs\u001b[0m\u001b[0;34m[\u001b[0m\u001b[0;36m0\u001b[0m\u001b[0;34m,\u001b[0m\u001b[0;34m:\u001b[0m\u001b[0;36m19\u001b[0m\u001b[0;34m]\u001b[0m \u001b[0;34m=\u001b[0m \u001b[0minputs\u001b[0m\u001b[0;34m[\u001b[0m\u001b[0;36m0\u001b[0m\u001b[0;34m,\u001b[0m\u001b[0;36m1\u001b[0m\u001b[0;34m:\u001b[0m\u001b[0;34m]\u001b[0m\u001b[0;34m\u001b[0m\u001b[0;34m\u001b[0m\u001b[0m\n\u001b[0m\u001b[1;32m     25\u001b[0m   \u001b[0minputs\u001b[0m\u001b[0;34m[\u001b[0m\u001b[0;36m0\u001b[0m\u001b[0;34m,\u001b[0m\u001b[0;36m20\u001b[0m\u001b[0;34m]\u001b[0m \u001b[0;34m=\u001b[0m  \u001b[0mtorch\u001b[0m\u001b[0;34m.\u001b[0m\u001b[0mwhere\u001b[0m\u001b[0;34m(\u001b[0m\u001b[0moutputs\u001b[0m\u001b[0;34m[\u001b[0m\u001b[0;34m'logits'\u001b[0m\u001b[0;34m]\u001b[0m \u001b[0;34m<\u001b[0m \u001b[0;36m0.5\u001b[0m\u001b[0;34m,\u001b[0m \u001b[0mtorch\u001b[0m\u001b[0;34m.\u001b[0m\u001b[0mtensor\u001b[0m\u001b[0;34m(\u001b[0m\u001b[0;36m0.0\u001b[0m\u001b[0;34m)\u001b[0m\u001b[0;34m,\u001b[0m \u001b[0mtorch\u001b[0m\u001b[0;34m.\u001b[0m\u001b[0mtensor\u001b[0m\u001b[0;34m(\u001b[0m\u001b[0;36m1.0\u001b[0m\u001b[0;34m)\u001b[0m\u001b[0;34m)\u001b[0m\u001b[0;34m[\u001b[0m\u001b[0;36m0\u001b[0m\u001b[0;34m]\u001b[0m\u001b[0;34m\u001b[0m\u001b[0;34m\u001b[0m\u001b[0m\n\u001b[1;32m     26\u001b[0m \u001b[0;34m\u001b[0m\u001b[0m\n",
            "\u001b[0;31mRuntimeError\u001b[0m: unsupported operation: some elements of the input tensor and the written-to tensor refer to a single memory location. Please clone() the tensor before performing the operation."
          ]
        }
      ]
    },
    {
      "cell_type": "code",
      "source": [
        "shift.shape"
      ],
      "metadata": {
        "colab": {
          "base_uri": "https://localhost:8080/"
        },
        "id": "8TUW73rkfuHc",
        "outputId": "55a019af-da2d-45cd-9f13-9a8b0146057f"
      },
      "execution_count": 66,
      "outputs": [
        {
          "output_type": "execute_result",
          "data": {
            "text/plain": [
              "torch.Size([19, 5])"
            ]
          },
          "metadata": {},
          "execution_count": 66
        }
      ]
    },
    {
      "cell_type": "code",
      "source": [
        "labes"
      ],
      "metadata": {
        "colab": {
          "base_uri": "https://localhost:8080/"
        },
        "id": "GuVgpv98dpzu",
        "outputId": "511ccad9-f906-43e4-9a88-bbd33ffa5868"
      },
      "execution_count": 60,
      "outputs": [
        {
          "output_type": "execute_result",
          "data": {
            "text/plain": [
              "tensor([[0., 0., 0., 0., 0.]])"
            ]
          },
          "metadata": {},
          "execution_count": 60
        }
      ]
    },
    {
      "cell_type": "code",
      "source": [
        "torch.where(outputs['logits'] < 0.5, torch.tensor(0.0), torch.tensor(1.0))"
      ],
      "metadata": {
        "colab": {
          "base_uri": "https://localhost:8080/"
        },
        "id": "5FM60dizco8M",
        "outputId": "124a64ff-fec5-4bbf-f6a3-22d7d76c9a65"
      },
      "execution_count": 58,
      "outputs": [
        {
          "output_type": "execute_result",
          "data": {
            "text/plain": [
              "tensor([[0., 0., 0., 0., 0.]])"
            ]
          },
          "metadata": {},
          "execution_count": 58
        }
      ]
    },
    {
      "cell_type": "code",
      "source": [
        "inputs.shape"
      ],
      "metadata": {
        "colab": {
          "base_uri": "https://localhost:8080/"
        },
        "id": "rJ-JVekjcb4Q",
        "outputId": "9715e295-6d08-4e0b-a900-28480960b954"
      },
      "execution_count": 54,
      "outputs": [
        {
          "output_type": "execute_result",
          "data": {
            "text/plain": [
              "torch.Size([20, 5])"
            ]
          },
          "metadata": {},
          "execution_count": 54
        }
      ]
    },
    {
      "cell_type": "code",
      "source": [
        "all_pred[1]"
      ],
      "metadata": {
        "id": "qhpvSKKMRI1N"
      },
      "execution_count": null,
      "outputs": []
    },
    {
      "cell_type": "code",
      "source": [
        "all_labels[1]"
      ],
      "metadata": {
        "id": "YxjjVgEXR4zz"
      },
      "execution_count": null,
      "outputs": []
    },
    {
      "cell_type": "code",
      "source": [
        "inputs.shape"
      ],
      "metadata": {
        "colab": {
          "base_uri": "https://localhost:8080/"
        },
        "id": "ntCmOU8L-ZFr",
        "outputId": "b77fb89a-5c09-450a-e9e5-124e79005ffe"
      },
      "execution_count": 45,
      "outputs": [
        {
          "output_type": "execute_result",
          "data": {
            "text/plain": [
              "torch.Size([64, 20, 5])"
            ]
          },
          "metadata": {},
          "execution_count": 45
        }
      ]
    },
    {
      "cell_type": "code",
      "source": [
        "prev_out.shape"
      ],
      "metadata": {
        "colab": {
          "base_uri": "https://localhost:8080/"
        },
        "id": "24HZJVtERFgH",
        "outputId": "0e1773a1-957d-4379-b7b5-01edf51d333f"
      },
      "execution_count": 46,
      "outputs": [
        {
          "output_type": "execute_result",
          "data": {
            "text/plain": [
              "torch.Size([64, 5])"
            ]
          },
          "metadata": {},
          "execution_count": 46
        }
      ]
    },
    {
      "cell_type": "code",
      "source": [
        "logits.shape"
      ],
      "metadata": {
        "colab": {
          "base_uri": "https://localhost:8080/"
        },
        "id": "I9e6N6oR-dgb",
        "outputId": "b9565ee1-9e55-4e82-920e-61c4d6d2fc8a"
      },
      "execution_count": 81,
      "outputs": [
        {
          "output_type": "execute_result",
          "data": {
            "text/plain": [
              "torch.Size([16, 5])"
            ]
          },
          "metadata": {},
          "execution_count": 81
        }
      ]
    },
    {
      "cell_type": "code",
      "source": [
        "la = torch.stack(all_labels[:-1]).cpu().numpy().flatten()\n",
        "pr = torch.stack(all_pred[:-1]).cpu().numpy().flatten()\n",
        "\n",
        "acc = accuracy_score(la, pr)\n",
        "f1 = f1_score(la, pr)"
      ],
      "metadata": {
        "id": "i4_d_pddRiol"
      },
      "execution_count": 44,
      "outputs": []
    },
    {
      "cell_type": "code",
      "source": [
        "validate(model, dataloaderTrain)"
      ],
      "metadata": {
        "colab": {
          "base_uri": "https://localhost:8080/"
        },
        "id": "mZFaf-GO2p7T",
        "outputId": "0e7ecc5f-adf9-4653-cb30-cc1d48be2699"
      },
      "execution_count": 69,
      "outputs": [
        {
          "output_type": "stream",
          "name": "stderr",
          "text": [
            "100%|██████████| 4999/4999 [00:09<00:00, 523.84it/s]\n"
          ]
        },
        {
          "output_type": "stream",
          "name": "stdout",
          "text": [
            "validation_loss: 0.07322493892013625, accuracy: 0.9811674669867947, f1_score: 0.7764782711944905\n"
          ]
        }
      ]
    },
    {
      "cell_type": "code",
      "source": [
        "print(f'accuracy: {accuracy_score(la, pr)}')\n",
        "print(f'f1_score: {f1_score(la, pr)}')"
      ],
      "metadata": {
        "colab": {
          "base_uri": "https://localhost:8080/"
        },
        "id": "Wpi0BW1IqL5O",
        "outputId": "8b899460-8851-4b5d-fc7f-96a02b1a89b4"
      },
      "execution_count": 45,
      "outputs": [
        {
          "output_type": "stream",
          "name": "stdout",
          "text": [
            "accuracy: 0.9266278135048232\n",
            "f1_score: 0.0489710862203699\n"
          ]
        }
      ]
    },
    {
      "cell_type": "code",
      "source": [
        "model.eval()\n",
        "all_pred = []\n",
        "all_labels = []\n",
        "\n",
        "bar_tqdm = tqdm(enumerate(dataloaderTrain), total = len(dataloaderTrain), position = 0, leave = True)\n",
        "h0 = torch.zeros(hypers.num_layers, hypers.batch_size, hypers.hidden_size).to(hypers.device)\n",
        "c0 = torch.zeros(hypers.num_layers, hypers.batch_size, hypers.hidden_size).to(hypers.device)\n",
        "\n",
        "for i, batch in bar_tqdm:\n",
        "\n",
        "  inputs = batch['inputs'].to(hypers.device).to(dtype=torch.float32)\n",
        "  labels = batch['labels'].to(hypers.device).to(dtype=torch.float32)\n",
        "\n",
        "\n",
        "  outputs = model(inputs, h0, c0)\n",
        "  loss = loss_fn(outputs, labels)\n",
        "\n",
        "\n",
        "\n"
      ],
      "metadata": {
        "id": "qt3kUgcpTNLi"
      },
      "execution_count": null,
      "outputs": []
    },
    {
      "cell_type": "code",
      "source": [
        "dataiter = iter(dataloaderVal)\n",
        "h0 = torch.zeros(hypers.num_layers, hypers.batch_size, hypers.hidden_size).to(hypers.device)\n",
        "c0 = torch.zeros(hypers.num_layers, hypers.batch_size, hypers.hidden_size).to(hypers.device)"
      ],
      "metadata": {
        "id": "IqyqgUowXO5b"
      },
      "execution_count": 55,
      "outputs": []
    },
    {
      "cell_type": "code",
      "source": [
        "batch = next(dataiter)\n",
        "inputs = batch['inputs'].to(hypers.device).to(dtype=torch.float32)\n",
        "labels = batch['labels'].to(hypers.device).to(dtype=torch.float32)"
      ],
      "metadata": {
        "id": "VKHOh9r_W8Vb"
      },
      "execution_count": 65,
      "outputs": []
    },
    {
      "cell_type": "code",
      "source": [
        "outputs = model(inputs, h0, c0)"
      ],
      "metadata": {
        "id": "vAne7CDBXHIY"
      },
      "execution_count": 66,
      "outputs": []
    },
    {
      "cell_type": "code",
      "source": [
        "outputs['logits']\n",
        "thresholded_tensor = torch.where(outputs['logits'] < 0.5, torch.tensor(0.0), torch.tensor(1.0))\n",
        "thresholded_tensor"
      ],
      "metadata": {
        "colab": {
          "base_uri": "https://localhost:8080/"
        },
        "id": "nECNlUc7TZic",
        "outputId": "0443bc05-7e54-4b30-b403-6a3e57e8948b"
      },
      "execution_count": 67,
      "outputs": [
        {
          "output_type": "execute_result",
          "data": {
            "text/plain": [
              "tensor([[0., 0., 0., 0., 0.],\n",
              "        [0., 0., 0., 0., 0.],\n",
              "        [0., 0., 0., 0., 0.],\n",
              "        [0., 0., 0., 0., 0.],\n",
              "        [0., 0., 0., 0., 0.],\n",
              "        [0., 0., 0., 0., 0.],\n",
              "        [0., 0., 0., 0., 0.],\n",
              "        [0., 0., 0., 0., 0.],\n",
              "        [0., 0., 0., 0., 0.],\n",
              "        [0., 0., 0., 0., 0.],\n",
              "        [0., 0., 0., 0., 0.],\n",
              "        [0., 0., 0., 0., 0.],\n",
              "        [0., 0., 0., 0., 0.],\n",
              "        [0., 0., 0., 0., 0.],\n",
              "        [0., 0., 0., 0., 0.],\n",
              "        [0., 0., 0., 0., 0.]], device='cuda:0')"
            ]
          },
          "metadata": {},
          "execution_count": 67
        }
      ]
    },
    {
      "cell_type": "code",
      "source": [
        "labels"
      ],
      "metadata": {
        "colab": {
          "base_uri": "https://localhost:8080/"
        },
        "id": "F_me7Es5TWHr",
        "outputId": "e8046295-5f1d-4b7d-ede9-13a34ee35856"
      },
      "execution_count": 68,
      "outputs": [
        {
          "output_type": "execute_result",
          "data": {
            "text/plain": [
              "tensor([[0., 0., 0., 0., 0.],\n",
              "        [0., 0., 0., 0., 0.],\n",
              "        [0., 0., 0., 0., 0.],\n",
              "        [0., 0., 0., 0., 0.],\n",
              "        [0., 0., 0., 0., 0.],\n",
              "        [0., 0., 0., 0., 0.],\n",
              "        [0., 0., 0., 0., 0.],\n",
              "        [0., 0., 0., 0., 0.],\n",
              "        [0., 0., 0., 0., 0.],\n",
              "        [0., 0., 0., 0., 0.],\n",
              "        [0., 0., 0., 0., 0.],\n",
              "        [0., 0., 0., 0., 1.],\n",
              "        [1., 0., 0., 0., 0.],\n",
              "        [0., 0., 0., 0., 0.],\n",
              "        [0., 0., 0., 0., 0.],\n",
              "        [0., 0., 0., 0., 0.]], device='cuda:0')"
            ]
          },
          "metadata": {},
          "execution_count": 68
        }
      ]
    }
  ]
}